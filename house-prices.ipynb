{
 "cells": [
  {
   "cell_type": "code",
   "execution_count": 455,
   "metadata": {},
   "outputs": [],
   "source": [
    "import pandas as pd\n",
    "import numpy as np\n",
    "import matplotlib.pyplot as plt\n",
    "import seaborn as sns\n",
    "from scipy import stats\n",
    "from scipy.stats import norm"
   ]
  },
  {
   "cell_type": "markdown",
   "metadata": {},
   "source": [
    "loading data"
   ]
  },
  {
   "cell_type": "code",
   "execution_count": 710,
   "metadata": {},
   "outputs": [],
   "source": [
    "train=pd.read_csv('/home/xavier/exts-ida/course3/house-prices/house-prices.csv')"
   ]
  },
  {
   "cell_type": "code",
   "execution_count": 3,
   "metadata": {},
   "outputs": [
    {
     "data": {
      "text/html": [
       "<div>\n",
       "<style scoped>\n",
       "    .dataframe tbody tr th:only-of-type {\n",
       "        vertical-align: middle;\n",
       "    }\n",
       "\n",
       "    .dataframe tbody tr th {\n",
       "        vertical-align: top;\n",
       "    }\n",
       "\n",
       "    .dataframe thead th {\n",
       "        text-align: right;\n",
       "    }\n",
       "</style>\n",
       "<table border=\"1\" class=\"dataframe\">\n",
       "  <thead>\n",
       "    <tr style=\"text-align: right;\">\n",
       "      <th></th>\n",
       "      <th>Order</th>\n",
       "      <th>PID</th>\n",
       "      <th>MS SubClass</th>\n",
       "      <th>MS Zoning</th>\n",
       "      <th>Lot Frontage</th>\n",
       "      <th>Lot Area</th>\n",
       "      <th>Street</th>\n",
       "      <th>Alley</th>\n",
       "      <th>Lot Shape</th>\n",
       "      <th>Land Contour</th>\n",
       "      <th>...</th>\n",
       "      <th>Pool Area</th>\n",
       "      <th>Pool QC</th>\n",
       "      <th>Fence</th>\n",
       "      <th>Misc Feature</th>\n",
       "      <th>Misc Val</th>\n",
       "      <th>Mo Sold</th>\n",
       "      <th>Yr Sold</th>\n",
       "      <th>Sale Type</th>\n",
       "      <th>Sale Condition</th>\n",
       "      <th>SalePrice</th>\n",
       "    </tr>\n",
       "  </thead>\n",
       "  <tbody>\n",
       "    <tr>\n",
       "      <th>0</th>\n",
       "      <td>484</td>\n",
       "      <td>528275070</td>\n",
       "      <td>60</td>\n",
       "      <td>RL</td>\n",
       "      <td>NaN</td>\n",
       "      <td>8795</td>\n",
       "      <td>Pave</td>\n",
       "      <td>NaN</td>\n",
       "      <td>IR1</td>\n",
       "      <td>Lvl</td>\n",
       "      <td>...</td>\n",
       "      <td>0</td>\n",
       "      <td>NaN</td>\n",
       "      <td>NaN</td>\n",
       "      <td>NaN</td>\n",
       "      <td>0</td>\n",
       "      <td>4</td>\n",
       "      <td>2009</td>\n",
       "      <td>WD</td>\n",
       "      <td>Normal</td>\n",
       "      <td>236000</td>\n",
       "    </tr>\n",
       "    <tr>\n",
       "      <th>1</th>\n",
       "      <td>2586</td>\n",
       "      <td>535305120</td>\n",
       "      <td>20</td>\n",
       "      <td>RL</td>\n",
       "      <td>75.0</td>\n",
       "      <td>10170</td>\n",
       "      <td>Pave</td>\n",
       "      <td>NaN</td>\n",
       "      <td>Reg</td>\n",
       "      <td>Lvl</td>\n",
       "      <td>...</td>\n",
       "      <td>0</td>\n",
       "      <td>NaN</td>\n",
       "      <td>NaN</td>\n",
       "      <td>NaN</td>\n",
       "      <td>0</td>\n",
       "      <td>6</td>\n",
       "      <td>2006</td>\n",
       "      <td>WD</td>\n",
       "      <td>Normal</td>\n",
       "      <td>155000</td>\n",
       "    </tr>\n",
       "    <tr>\n",
       "      <th>2</th>\n",
       "      <td>2289</td>\n",
       "      <td>923228250</td>\n",
       "      <td>160</td>\n",
       "      <td>RM</td>\n",
       "      <td>21.0</td>\n",
       "      <td>2001</td>\n",
       "      <td>Pave</td>\n",
       "      <td>NaN</td>\n",
       "      <td>Reg</td>\n",
       "      <td>Lvl</td>\n",
       "      <td>...</td>\n",
       "      <td>0</td>\n",
       "      <td>NaN</td>\n",
       "      <td>NaN</td>\n",
       "      <td>NaN</td>\n",
       "      <td>0</td>\n",
       "      <td>1</td>\n",
       "      <td>2007</td>\n",
       "      <td>WD</td>\n",
       "      <td>Normal</td>\n",
       "      <td>75000</td>\n",
       "    </tr>\n",
       "    <tr>\n",
       "      <th>3</th>\n",
       "      <td>142</td>\n",
       "      <td>535152150</td>\n",
       "      <td>20</td>\n",
       "      <td>RL</td>\n",
       "      <td>70.0</td>\n",
       "      <td>10552</td>\n",
       "      <td>Pave</td>\n",
       "      <td>NaN</td>\n",
       "      <td>IR1</td>\n",
       "      <td>Lvl</td>\n",
       "      <td>...</td>\n",
       "      <td>0</td>\n",
       "      <td>NaN</td>\n",
       "      <td>NaN</td>\n",
       "      <td>NaN</td>\n",
       "      <td>0</td>\n",
       "      <td>4</td>\n",
       "      <td>2010</td>\n",
       "      <td>WD</td>\n",
       "      <td>Normal</td>\n",
       "      <td>165500</td>\n",
       "    </tr>\n",
       "    <tr>\n",
       "      <th>4</th>\n",
       "      <td>2042</td>\n",
       "      <td>903475060</td>\n",
       "      <td>190</td>\n",
       "      <td>RM</td>\n",
       "      <td>60.0</td>\n",
       "      <td>10120</td>\n",
       "      <td>Pave</td>\n",
       "      <td>NaN</td>\n",
       "      <td>IR1</td>\n",
       "      <td>Bnk</td>\n",
       "      <td>...</td>\n",
       "      <td>0</td>\n",
       "      <td>NaN</td>\n",
       "      <td>MnPrv</td>\n",
       "      <td>NaN</td>\n",
       "      <td>0</td>\n",
       "      <td>1</td>\n",
       "      <td>2007</td>\n",
       "      <td>WD</td>\n",
       "      <td>Normal</td>\n",
       "      <td>122000</td>\n",
       "    </tr>\n",
       "  </tbody>\n",
       "</table>\n",
       "<p>5 rows × 82 columns</p>\n",
       "</div>"
      ],
      "text/plain": [
       "   Order        PID  MS SubClass MS Zoning  Lot Frontage  Lot Area Street  \\\n",
       "0    484  528275070           60        RL           NaN      8795   Pave   \n",
       "1   2586  535305120           20        RL          75.0     10170   Pave   \n",
       "2   2289  923228250          160        RM          21.0      2001   Pave   \n",
       "3    142  535152150           20        RL          70.0     10552   Pave   \n",
       "4   2042  903475060          190        RM          60.0     10120   Pave   \n",
       "\n",
       "  Alley Lot Shape Land Contour    ...     Pool Area Pool QC  Fence  \\\n",
       "0   NaN       IR1          Lvl    ...             0     NaN    NaN   \n",
       "1   NaN       Reg          Lvl    ...             0     NaN    NaN   \n",
       "2   NaN       Reg          Lvl    ...             0     NaN    NaN   \n",
       "3   NaN       IR1          Lvl    ...             0     NaN    NaN   \n",
       "4   NaN       IR1          Bnk    ...             0     NaN  MnPrv   \n",
       "\n",
       "  Misc Feature Misc Val Mo Sold Yr Sold Sale Type  Sale Condition  SalePrice  \n",
       "0          NaN        0       4    2009       WD           Normal     236000  \n",
       "1          NaN        0       6    2006       WD           Normal     155000  \n",
       "2          NaN        0       1    2007       WD           Normal      75000  \n",
       "3          NaN        0       4    2010       WD           Normal     165500  \n",
       "4          NaN        0       1    2007       WD           Normal     122000  \n",
       "\n",
       "[5 rows x 82 columns]"
      ]
     },
     "execution_count": 3,
     "metadata": {},
     "output_type": "execute_result"
    }
   ],
   "source": [
    "train.head()"
   ]
  },
  {
   "cell_type": "code",
   "execution_count": 4,
   "metadata": {},
   "outputs": [
    {
     "name": "stdout",
     "output_type": "stream",
     "text": [
      "train data has 2430 rows and 82 columns\n"
     ]
    }
   ],
   "source": [
    "print('train data has {0} rows and {1} columns'.format(train.shape[0],train.shape[1]))"
   ]
  },
  {
   "cell_type": "markdown",
   "metadata": {},
   "source": [
    "Let's check if the data set has any missing values. "
   ]
  },
  {
   "cell_type": "code",
   "execution_count": 6,
   "metadata": {},
   "outputs": [
    {
     "data": {
      "text/plain": [
       "Index(['Lot Frontage', 'Alley', 'Mas Vnr Type', 'Mas Vnr Area', 'Bsmt Qual',\n",
       "       'Bsmt Cond', 'Bsmt Exposure', 'BsmtFin Type 1', 'BsmtFin SF 1',\n",
       "       'BsmtFin Type 2', 'BsmtFin SF 2', 'Bsmt Unf SF', 'Total Bsmt SF',\n",
       "       'Electrical', 'Bsmt Full Bath', 'Bsmt Half Bath', 'Fireplace Qu',\n",
       "       'Garage Type', 'Garage Yr Blt', 'Garage Finish', 'Garage Cars',\n",
       "       'Garage Area', 'Garage Qual', 'Garage Cond', 'Pool QC', 'Fence',\n",
       "       'Misc Feature'],\n",
       "      dtype='object')"
      ]
     },
     "execution_count": 6,
     "metadata": {},
     "output_type": "execute_result"
    }
   ],
   "source": [
    "#check missing values\n",
    "train.columns[train.isnull().any()]"
   ]
  },
  {
   "cell_type": "markdown",
   "metadata": {},
   "source": [
    "Out of 82 features, 27 features have missing values. Let's check the percentage of missing values in these columns."
   ]
  },
  {
   "cell_type": "code",
   "execution_count": 7,
   "metadata": {},
   "outputs": [
    {
     "data": {
      "text/plain": [
       "Electrical        0.000412\n",
       "Garage Area       0.000412\n",
       "Total Bsmt SF     0.000412\n",
       "Bsmt Unf SF       0.000412\n",
       "BsmtFin SF 1      0.000412\n",
       "BsmtFin SF 2      0.000412\n",
       "Garage Cars       0.000412\n",
       "Bsmt Full Bath    0.000823\n",
       "Bsmt Half Bath    0.000823\n",
       "Mas Vnr Area      0.008230\n",
       "Mas Vnr Type      0.008230\n",
       "BsmtFin Type 1    0.029218\n",
       "Bsmt Qual         0.029218\n",
       "Bsmt Cond         0.029218\n",
       "BsmtFin Type 2    0.029630\n",
       "Bsmt Exposure     0.030453\n",
       "Garage Type       0.055967\n",
       "Garage Finish     0.056790\n",
       "Garage Qual       0.056790\n",
       "Garage Cond       0.056790\n",
       "Garage Yr Blt     0.056790\n",
       "Lot Frontage      0.172840\n",
       "Fireplace Qu      0.488066\n",
       "Fence             0.798765\n",
       "Alley             0.932922\n",
       "Misc Feature      0.962963\n",
       "Pool QC           0.995062\n",
       "dtype: float64"
      ]
     },
     "execution_count": 7,
     "metadata": {},
     "output_type": "execute_result"
    }
   ],
   "source": [
    "miss = train.isnull().sum()/len(train)\n",
    "miss = miss[miss > 0]\n",
    "miss.sort_values(inplace=True)\n",
    "miss"
   ]
  },
  {
   "cell_type": "markdown",
   "metadata": {},
   "source": [
    "separating numeric and categorical variables"
   ]
  },
  {
   "cell_type": "code",
   "execution_count": 8,
   "metadata": {},
   "outputs": [
    {
     "name": "stdout",
     "output_type": "stream",
     "text": [
      "There are 39 numeric and 43 categorical columns in train data\n"
     ]
    }
   ],
   "source": [
    "numeric_hdata = train.select_dtypes(include=[np.number])\n",
    "cat_hdata = train.select_dtypes(exclude=[np.number])\n",
    "print ('There are {} numeric and {} categorical columns in train data'.format(numeric_hdata.shape[1],cat_hdata.shape[1]))"
   ]
  },
  {
   "cell_type": "markdown",
   "metadata": {},
   "source": [
    "removing the PID and Order variables from numeric data"
   ]
  },
  {
   "cell_type": "code",
   "execution_count": 9,
   "metadata": {},
   "outputs": [],
   "source": [
    "del numeric_hdata['PID']\n",
    "del numeric_hdata['Order']"
   ]
  },
  {
   "cell_type": "markdown",
   "metadata": {},
   "source": [
    "Interesting to learn about the correlation behaviour of numeric variables"
   ]
  },
  {
   "cell_type": "code",
   "execution_count": 10,
   "metadata": {},
   "outputs": [
    {
     "data": {
      "text/plain": [
       "<matplotlib.axes._subplots.AxesSubplot at 0xad4dbecc>"
      ]
     },
     "execution_count": 10,
     "metadata": {},
     "output_type": "execute_result"
    },
    {
     "data": {
      "image/png": "[encoded data removed]",
      "text/plain": [
       "<matplotlib.figure.Figure at 0xad4dbaac>"
      ]
     },
     "metadata": {
      "needs_background": "light"
     },
     "output_type": "display_data"
    }
   ],
   "source": [
    "%matplotlib inline\n",
    "plt.rcParams['figure.figsize']=(10.0,8.0)\n",
    "corr = numeric_hdata.corr()\n",
    "sns.heatmap(corr)"
   ]
  },
  {
   "cell_type": "markdown",
   "metadata": {},
   "source": [
    "We don't have a lot of correlation between the variables.Year Built-Garage Yr Blt, Gr liv Area-TotRms AbvGrd,\n",
    "Garage Cars-Garage Area, Total Bsmt SF-1st Flr SF, have fairly strong correlations; but we will keep them anyway for the rest of our study"
   ]
  },
  {
   "cell_type": "code",
   "execution_count": 11,
   "metadata": {},
   "outputs": [
    {
     "name": "stdout",
     "output_type": "stream",
     "text": [
      "SalePrice         1.000000\n",
      "Overall Qual      0.799022\n",
      "Gr Liv Area       0.700147\n",
      "Garage Cars       0.643467\n",
      "Total Bsmt SF     0.635329\n",
      "Garage Area       0.630807\n",
      "1st Flr SF        0.625882\n",
      "Year Built        0.559823\n",
      "Full Bath         0.536616\n",
      "Garage Yr Blt     0.530062\n",
      "Year Remod/Add    0.528243\n",
      "Mas Vnr Area      0.509386\n",
      "Fireplaces        0.492056\n",
      "TotRms AbvGrd     0.483882\n",
      "BsmtFin SF 1      0.439591\n",
      "Name: SalePrice, dtype: float64 \n",
      "\n",
      "----------------------\n",
      "Low Qual Fin SF   -0.029989\n",
      "MS SubClass       -0.087456\n",
      "Overall Cond      -0.102353\n",
      "Kitchen AbvGr     -0.119954\n",
      "Enclosed Porch    -0.138282\n",
      "Name: SalePrice, dtype: float64\n"
     ]
    }
   ],
   "source": [
    "print (corr['SalePrice'].sort_values(ascending=False)[:15], '\\n') #top 15 values\n",
    "print ('----------------------')\n",
    "print (corr['SalePrice'].sort_values(ascending=False)[-5:]) #last 5 values`"
   ]
  },
  {
   "cell_type": "markdown",
   "metadata": {},
   "source": [
    "Here we see that the OverallQual feature is 79% correlated with the target variable. Overallqual feature refers to the overall material and quality of the materials of the completed house. Well, this make sense as well. People usually consider these parameters for their dream house. In addition, GrLivArea is 70% correlated with the target variable. GrLivArea refers to the living area (in sq ft.) above ground. The following variables show people also care about if the house has a garage, the area of that garage, the size of the basement area, etc. "
   ]
  },
  {
   "cell_type": "markdown",
   "metadata": {},
   "source": [
    "###### checking features correlated with SalePrice"
   ]
  },
  {
   "cell_type": "markdown",
   "metadata": {},
   "source": [
    "Checking 'Over Qual' feature"
   ]
  },
  {
   "cell_type": "code",
   "execution_count": 13,
   "metadata": {},
   "outputs": [
    {
     "data": {
      "text/plain": [
       "array([ 7,  6,  4,  5,  8,  9, 10,  3,  1,  2], dtype=int64)"
      ]
     },
     "execution_count": 13,
     "metadata": {},
     "output_type": "execute_result"
    }
   ],
   "source": [
    "train['Overall Qual'].unique()"
   ]
  },
  {
   "cell_type": "markdown",
   "metadata": {},
   "source": [
    "The overall quality is measured on a scale of 1 to 10. Hence, we can fairly treat it as an ordinal variable.We are using median because the target variable is skewed. A skewed variable has outliers and median is robust to outliers.<br><br>\n"
   ]
  },
  {
   "cell_type": "markdown",
   "metadata": {},
   "source": [
    "Checking 'Gr Liv Area' variable"
   ]
  },
  {
   "cell_type": "code",
   "execution_count": 19,
   "metadata": {},
   "outputs": [
    {
     "data": {
      "text/plain": [
       "<seaborn.axisgrid.JointGrid at 0xa784bd4c>"
      ]
     },
     "execution_count": 19,
     "metadata": {},
     "output_type": "execute_result"
    },
    {
     "data": {
      "image/png": "[encoded data removed]",
      "text/plain": [
       "<matplotlib.figure.Figure at 0xa784bf2c>"
      ]
     },
     "metadata": {
      "needs_background": "light"
     },
     "output_type": "display_data"
    }
   ],
   "source": [
    "#GrLivArea variable\n",
    "sns.jointplot(x=train['Gr Liv Area'], y=train['SalePrice'])"
   ]
  },
  {
   "cell_type": "markdown",
   "metadata": {},
   "source": [
    "Checking 'Garage Cars' variable"
   ]
  },
  {
   "cell_type": "code",
   "execution_count": 21,
   "metadata": {},
   "outputs": [
    {
     "data": {
      "text/plain": [
       "<seaborn.axisgrid.JointGrid at 0xa660ee6c>"
      ]
     },
     "execution_count": 21,
     "metadata": {},
     "output_type": "execute_result"
    },
    {
     "data": {
      "image/png": "[encoded data removed]",
      "text/plain": [
       "<matplotlib.figure.Figure at 0xa66210cc>"
      ]
     },
     "metadata": {
      "needs_background": "light"
     },
     "output_type": "display_data"
    }
   ],
   "source": [
    "#Garage Cars variable\n",
    "sns.jointplot(x=train['Garage Cars'], y=train['SalePrice'])"
   ]
  },
  {
   "cell_type": "markdown",
   "metadata": {},
   "source": [
    "Checking 'Total Bsmt SF' variable"
   ]
  },
  {
   "cell_type": "code",
   "execution_count": 22,
   "metadata": {},
   "outputs": [
    {
     "data": {
      "text/plain": [
       "<seaborn.axisgrid.JointGrid at 0xa633f6cc>"
      ]
     },
     "execution_count": 22,
     "metadata": {},
     "output_type": "execute_result"
    },
    {
     "data": {
      "image/png": "[encoded data removed]",
      "text/plain": [
       "<matplotlib.figure.Figure at 0xa633f6ac>"
      ]
     },
     "metadata": {
      "needs_background": "light"
     },
     "output_type": "display_data"
    }
   ],
   "source": [
    "#Total Bsmt SF variable\n",
    "sns.jointplot(x=train['Total Bsmt SF'], y=train['SalePrice'])"
   ]
  },
  {
   "cell_type": "markdown",
   "metadata": {},
   "source": [
    "Checking 'Garage Area' variable"
   ]
  },
  {
   "cell_type": "code",
   "execution_count": 23,
   "metadata": {},
   "outputs": [
    {
     "data": {
      "text/plain": [
       "<seaborn.axisgrid.JointGrid at 0xa61fd76c>"
      ]
     },
     "execution_count": 23,
     "metadata": {},
     "output_type": "execute_result"
    },
    {
     "data": {
      "image/png": "[encoded data removed]",
      "text/plain": [
       "<matplotlib.figure.Figure at 0xa620b4ac>"
      ]
     },
     "metadata": {
      "needs_background": "light"
     },
     "output_type": "display_data"
    }
   ],
   "source": [
    "#Garage Area variable\n",
    "sns.jointplot(x=train['Garage Area'], y=train['SalePrice'])"
   ]
  },
  {
   "cell_type": "markdown",
   "metadata": {},
   "source": [
    "Checking '1st Flr SF' variable"
   ]
  },
  {
   "cell_type": "code",
   "execution_count": 25,
   "metadata": {},
   "outputs": [
    {
     "data": {
      "text/plain": [
       "<seaborn.axisgrid.JointGrid at 0xa5e2e32c>"
      ]
     },
     "execution_count": 25,
     "metadata": {},
     "output_type": "execute_result"
    },
    {
     "data": {
      "image/png": "[encoded data removed]",
      "text/plain": [
       "<matplotlib.figure.Figure at 0xa5f3de2c>"
      ]
     },
     "metadata": {
      "needs_background": "light"
     },
     "output_type": "display_data"
    }
   ],
   "source": [
    "#1st Flr SF variable\n",
    "sns.jointplot(x=train['1st Flr SF'], y=train['SalePrice'])"
   ]
  },
  {
   "cell_type": "markdown",
   "metadata": {},
   "source": [
    "Checking 'Year Built' variable"
   ]
  },
  {
   "cell_type": "code",
   "execution_count": 26,
   "metadata": {},
   "outputs": [
    {
     "data": {
      "text/plain": [
       "<seaborn.axisgrid.JointGrid at 0xa5dd71ec>"
      ]
     },
     "execution_count": 26,
     "metadata": {},
     "output_type": "execute_result"
    },
    {
     "data": {
      "image/png": "[encoded data removed]",
      "text/plain": [
       "<matplotlib.figure.Figure at 0xa5dd714c>"
      ]
     },
     "metadata": {
      "needs_background": "light"
     },
     "output_type": "display_data"
    }
   ],
   "source": [
    "#Year Built variable\n",
    "sns.jointplot(x=train['Year Built'], y=train['SalePrice'])"
   ]
  },
  {
   "cell_type": "markdown",
   "metadata": {},
   "source": [
    "Checking 'Full Bath' variable"
   ]
  },
  {
   "cell_type": "code",
   "execution_count": 27,
   "metadata": {},
   "outputs": [
    {
     "data": {
      "text/plain": [
       "<seaborn.axisgrid.JointGrid at 0xa58fdb8c>"
      ]
     },
     "execution_count": 27,
     "metadata": {},
     "output_type": "execute_result"
    },
    {
     "data": {
      "image/png": "[encoded data removed]",
      "text/plain": [
       "<matplotlib.figure.Figure at 0xa58fddec>"
      ]
     },
     "metadata": {
      "needs_background": "light"
     },
     "output_type": "display_data"
    }
   ],
   "source": [
    "#Full Bath variable\n",
    "sns.jointplot(x=train['Full Bath'], y=train['SalePrice'])"
   ]
  },
  {
   "cell_type": "markdown",
   "metadata": {},
   "source": [
    "Checking 'Garage Yr Blt' variable"
   ]
  },
  {
   "cell_type": "code",
   "execution_count": 28,
   "metadata": {},
   "outputs": [
    {
     "data": {
      "text/plain": [
       "<seaborn.axisgrid.JointGrid at 0xa56c4aac>"
      ]
     },
     "execution_count": 28,
     "metadata": {},
     "output_type": "execute_result"
    },
    {
     "data": {
      "image/png": "[encoded data removed]",
      "text/plain": [
       "<matplotlib.figure.Figure at 0xa56c42ec>"
      ]
     },
     "metadata": {
      "needs_background": "light"
     },
     "output_type": "display_data"
    }
   ],
   "source": [
    "#Garage Yr Blt variable\n",
    "sns.jointplot(x=train['Garage Yr Blt'], y=train['SalePrice'])"
   ]
  },
  {
   "cell_type": "markdown",
   "metadata": {},
   "source": [
    "Checking 'Year Remod/Add'"
   ]
  },
  {
   "cell_type": "code",
   "execution_count": 29,
   "metadata": {},
   "outputs": [
    {
     "data": {
      "text/plain": [
       "<seaborn.axisgrid.JointGrid at 0xa5507fac>"
      ]
     },
     "execution_count": 29,
     "metadata": {},
     "output_type": "execute_result"
    },
    {
     "data": {
      "image/png": "[encoded data removed]",
      "text/plain": [
       "<matplotlib.figure.Figure at 0xa5507d4c>"
      ]
     },
     "metadata": {
      "needs_background": "light"
     },
     "output_type": "display_data"
    }
   ],
   "source": [
    "#Year Remod/Add variable\n",
    "sns.jointplot(x=train['Year Remod/Add'], y=train['SalePrice'])"
   ]
  },
  {
   "cell_type": "markdown",
   "metadata": {},
   "source": [
    "Checking 'Mas Vnr Area' variable"
   ]
  },
  {
   "cell_type": "code",
   "execution_count": 30,
   "metadata": {},
   "outputs": [
    {
     "data": {
      "text/plain": [
       "<seaborn.axisgrid.JointGrid at 0xa51ad5ac>"
      ]
     },
     "execution_count": 30,
     "metadata": {},
     "output_type": "execute_result"
    },
    {
     "data": {
      "image/png": "[encoded data removed]",
      "text/plain": [
       "<matplotlib.figure.Figure at 0xa51ad34c>"
      ]
     },
     "metadata": {
      "needs_background": "light"
     },
     "output_type": "display_data"
    }
   ],
   "source": [
    "#Mas Vnr Area variable\n",
    "sns.jointplot(x=train['Mas Vnr Area'], y=train['SalePrice'])"
   ]
  },
  {
   "cell_type": "markdown",
   "metadata": {},
   "source": [
    "### DATA PREPROCESING"
   ]
  },
  {
   "cell_type": "markdown",
   "metadata": {},
   "source": [
    "### Data Cleaning"
   ]
  },
  {
   "cell_type": "code",
   "execution_count": 711,
   "metadata": {},
   "outputs": [
    {
     "data": {
      "text/plain": [
       "(2389, 82)"
      ]
     },
     "execution_count": 711,
     "metadata": {},
     "output_type": "execute_result"
    }
   ],
   "source": [
    "#Removing outliers\n",
    "train.drop(train[train['Gr Liv Area']>4000].index,inplace=True)\n",
    "train.drop(train[train['Total Bsmt SF']>3000].index,inplace=True)\n",
    "train.drop(train[train['Garage Area']>1050].index,inplace=True)\n",
    "train.drop(train[train['1st Flr SF']>3000].index,inplace=True)\n",
    "train.drop(train[train['Garage Yr Blt']>2050].index,inplace=True)\n",
    "train.drop(train[train['Mas Vnr Area']>800].index,inplace=True)\n",
    "train.shape"
   ]
  },
  {
   "cell_type": "markdown",
   "metadata": {},
   "source": [
    "deleting 'PID' and 'Order' features"
   ]
  },
  {
   "cell_type": "code",
   "execution_count": 712,
   "metadata": {},
   "outputs": [],
   "source": [
    "del train['PID']\n",
    "del train['Order']"
   ]
  },
  {
   "cell_type": "markdown",
   "metadata": {},
   "source": [
    "imputing 'lot frontage' by median of 'neighborhood'"
   ]
  },
  {
   "cell_type": "code",
   "execution_count": 713,
   "metadata": {},
   "outputs": [],
   "source": [
    "lot_frontage_by_neighborhood = train['Lot Frontage'].groupby(train['Neighborhood'])\n",
    "\n",
    "for key, group in lot_frontage_by_neighborhood:\n",
    "                idx = (train['Neighborhood'] == key) & (train['Lot Frontage'].isnull())\n",
    "                train.loc[idx, 'Lot Frontage'] = group.median()"
   ]
  },
  {
   "cell_type": "markdown",
   "metadata": {},
   "source": [
    "Imputing other numeric variables"
   ]
  },
  {
   "cell_type": "code",
   "execution_count": 714,
   "metadata": {},
   "outputs": [],
   "source": [
    "#imputing missing values\n",
    "train[\"Mas Vnr Area\"].fillna(0, inplace=True)\n",
    "train[\"Garage Area\"].fillna(0, inplace=True)\n",
    "train[\"Total Bsmt SF\"].fillna(0, inplace=True)\n",
    "train[\"BsmtFin SF 1\"].fillna(0, inplace=True)\n",
    "train[\"BsmtFin SF 2\"].fillna(0, inplace=True)\n",
    "train[\"Garage Cars\"].fillna(0, inplace=True)\n",
    "train[\"Bsmt Full Bath\"].fillna(0, inplace=True)\n",
    "train[\"Bsmt Half Bath\"].fillna(0, inplace=True)\n",
    "train[\"Bsmt Unf SF\"].fillna(0, inplace=True)\n",
    "train[\"Garage Yr Blt\"].fillna(np.nanmedian(train[\"Garage Yr Blt\"]), inplace=True)\n",
    "train[\"Lot Frontage\"].fillna(0, inplace=True)"
   ]
  },
  {
   "cell_type": "markdown",
   "metadata": {},
   "source": [
    "Visualizing data in ordinal features"
   ]
  },
  {
   "cell_type": "code",
   "execution_count": 35,
   "metadata": {},
   "outputs": [
    {
     "name": "stdout",
     "output_type": "stream",
     "text": [
      "Exter Qual\n",
      "TA    1488\n",
      "Gd     798\n",
      "Ex      73\n",
      "Fa      30\n",
      "Name: Exter Qual, dtype: int64\n",
      "-----------\n",
      "Pool QC\n",
      "Ex    3\n",
      "TA    3\n",
      "Gd    2\n",
      "Fa    2\n",
      "Name: Pool QC, dtype: int64\n",
      "-----------\n",
      "Exter Cond\n",
      "TA    2073\n",
      "Gd     247\n",
      "Fa      54\n",
      "Ex      12\n",
      "Po       3\n",
      "Name: Exter Cond, dtype: int64\n",
      "-----------\n",
      "Bsmt Qual\n",
      "TA    1057\n",
      "Gd     992\n",
      "Ex     194\n",
      "Fa      75\n",
      "Po       1\n",
      "Name: Bsmt Qual, dtype: int64\n",
      "-----------\n",
      "Heating QC\n",
      "Ex    1195\n",
      "TA     713\n",
      "Gd     398\n",
      "Fa      81\n",
      "Po       2\n",
      "Name: Heating QC, dtype: int64\n",
      "-----------\n",
      "Kitchen Qual\n",
      "TA    1231\n",
      "Gd     942\n",
      "Ex     157\n",
      "Fa      58\n",
      "Po       1\n",
      "Name: Kitchen Qual, dtype: int64\n",
      "-----------\n",
      "FireplaceQu\n",
      "Gd    596\n",
      "TA    469\n",
      "Fa     66\n",
      "Po     42\n",
      "Ex     33\n",
      "Name: Fireplace Qu, dtype: int64\n",
      "-----------\n",
      "Garage Qual\n",
      "TA    2118\n",
      "Fa     108\n",
      "Gd      18\n",
      "Po       5\n",
      "Ex       2\n",
      "Name: Garage Qual, dtype: int64\n",
      "-----------\n",
      "Garage Cond\n",
      "TA    2162\n",
      "Fa      61\n",
      "Po      14\n",
      "Gd      12\n",
      "Ex       2\n",
      "Name: Garage Cond, dtype: int64\n",
      "-----------\n"
     ]
    }
   ],
   "source": [
    "print('Exter Qual')\n",
    "print(train[\"Exter Qual\"].value_counts())\n",
    "print('-----------')\n",
    "print('Pool QC')\n",
    "print(train[\"Pool QC\"].value_counts())\n",
    "print('-----------')\n",
    "print('Exter Cond')\n",
    "print(train[\"Exter Cond\"].value_counts())\n",
    "print('-----------')\n",
    "print('Bsmt Qual')\n",
    "print(train[\"Bsmt Qual\"].value_counts())\n",
    "print('-----------')\n",
    "print('Heating QC')\n",
    "print(train[\"Heating QC\"].value_counts())\n",
    "print('-----------')\n",
    "print('Kitchen Qual')\n",
    "print(train[\"Kitchen Qual\"].value_counts())\n",
    "print('-----------')\n",
    "print('FireplaceQu')\n",
    "print(train[\"Fireplace Qu\"].value_counts())\n",
    "print('-----------')\n",
    "print('Garage Qual')\n",
    "print(train[\"Garage Qual\"].value_counts())\n",
    "print('-----------')\n",
    "print('Garage Cond')\n",
    "print(train[\"Garage Cond\"].value_counts())\n",
    "print('-----------')"
   ]
  },
  {
   "cell_type": "markdown",
   "metadata": {},
   "source": [
    "Variable names which have 'quality' or 'qual' in their names are ordinal variables.we'll simply create a dictionary of key-value pairs and map it to the variable in the data set."
   ]
  },
  {
   "cell_type": "code",
   "execution_count": 715,
   "metadata": {},
   "outputs": [],
   "source": [
    "def encode_ordinal(df):\n",
    "    #df = pd.DataFrame(index = df.index)\n",
    "    qual_dict = {np.nan:0, \"Po\": 1, \"Fa\": 2, \"TA\": 3, \"Gd\": 4, \"Ex\": 5}\n",
    "    name = np.array(['Exter Qual','Pool QC','Exter Cond','Bsmt Qual','Bsmt Cond'])\n",
    "    for i in name:\n",
    "        df[i] = df[i].map(qual_dict).astype(int)\n",
    "        qual_dict = {np.nan:0, \"Po\": 1, \"Fa\": 2, \"TA\": 3, \"Gd\": 4, \"Ex\": 5}\n",
    "        \n",
    "        colname = np.array(['Fireplace Qu', 'Garage Qual','Garage Cond'])\n",
    "        for i in colname:\n",
    "            df[i] = df[i].map(qual_dict).astype(int)\n",
    "            df[\"Bsmt Exposure\"] = df[\"Bsmt Exposure\"].map({np.nan: 0, \"No\": 1, \"Mn\": 2, \"Av\": 3, \"Gd\": 4}).astype(int)\n",
    "            bsmt_fin_dict = {np.nan: 0, \"Unf\": 1, \"LwQ\": 2, \"Rec\": 3, \"BLQ\": 4, \"ALQ\": 5, \"GLQ\": 6}\n",
    "            df[\"BsmtFin Type 1\"] = df[\"BsmtFin Type 1\"].map(bsmt_fin_dict).astype(int)\n",
    "            df[\"BsmtFin Type 2\"] = df[\"BsmtFin Type 2\"].map(bsmt_fin_dict).astype(int)\n",
    "            df[\"Functional\"] = df[\"Functional\"].map({np.nan: 0, \"Sal\": 1, \"Sev\": 2, \"Maj2\": 3, \"Maj1\": 4, \"Mod\": 5, \"Min2\": 6, \"Min1\": 7, \"Typ\": 8}).astype(int)\n",
    "            df[\"Garage Finish\"] = df[\"Garage Finish\"].map({np.nan: 0, \"Unf\": 1, \"RFn\": 2, \"Fin\": 3}).astype(int)\n",
    "            df[\"Fence\"] = df[\"Fence\"].map({np.nan: 0, \"MnWw\": 1, \"GdWo\": 2, \"MnPrv\": 3, \"GdPrv\": 4}).astype(int)\n",
    "            df[\"Central Air\"] = (df[\"Central Air\"] == \"Y\") * 1.0\n",
    "            \n",
    "            return df"
   ]
  },
  {
   "cell_type": "markdown",
   "metadata": {},
   "source": [
    "we'll encode all the categorical variables. This is necessary because most ML algorithms do not accept categorical values, instead they are expected to be converted to numerical. LabelEncoder function from sklearn is used to encode variables: "
   ]
  },
  {
   "cell_type": "code",
   "execution_count": 716,
   "metadata": {},
   "outputs": [],
   "source": [
    "#importing function\n",
    "from sklearn.preprocessing import LabelEncoder\n",
    "le = LabelEncoder()\n",
    "def factorize(data, var, fill_na = None):\n",
    "    if fill_na is not None:\n",
    "        data[var].fillna(fill_na, inplace=True)\n",
    "        le.fit(data[var])\n",
    "        data[var] = le.transform(data[var])\n",
    "        return data"
   ]
  },
  {
   "cell_type": "code",
   "execution_count": 717,
   "metadata": {},
   "outputs": [],
   "source": [
    "def cat_enc(cat_df):\n",
    "    varst = np.array(['MS SubClass','Lot Config','Neighborhood','Condition 1','Bldg Type','House Style','Roof Style','Foundation','Sale Condition'])\n",
    "    for x in varst:\n",
    "        factorize(cat_df, x)\n",
    "        #encode variables and impute missing values\n",
    "        cat_df = factorize(cat_df, 'Mas Vnr Type', \"None\")\n",
    "        return cat_df"
   ]
  },
  {
   "cell_type": "markdown",
   "metadata": {},
   "source": [
    "## FEATURE ENGINEERING"
   ]
  },
  {
   "cell_type": "markdown",
   "metadata": {},
   "source": [
    "Most categorical variables have near-zero variance distribution. Near-zero variance distribution is when one of the categories in a variable has >90% of the values. We'll create some binary variables depicting the presence or absence of a category. The new features will contain 0 or 1 values. In addition, we'll create some more variables which are self-explanatory with comments. "
   ]
  },
  {
   "cell_type": "code",
   "execution_count": 718,
   "metadata": {},
   "outputs": [],
   "source": [
    "def feat_col(feat_df):\n",
    "   # feat_df = pd.DataFrame(index = df.index)\n",
    "    \n",
    "    #creating new variable (1 or 0) based on irregular count levels\n",
    "    #The level with highest count is kept as 1 and rest as 0\n",
    "    feat_df[\"IsRegularLotShape\"] = (feat_df[\"Lot Shape\"] == \"Reg\") * 1\n",
    "    feat_df[\"IsLandLevel\"] = (feat_df[\"Land Contour\"] == \"Lvl\") * 1\n",
    "    feat_df[\"IsLandSlopeGentle\"] = (feat_df[\"Land Slope\"] == \"Gtl\") * 1\n",
    "    feat_df[\"IsElectricalSBrkr\"] = (feat_df[\"Electrical\"] == \"SBrkr\") * 1\n",
    "    feat_df[\"IsGarageDetached\"] = (feat_df[\"Garage Type\"] == \"Detchd\") * 1\n",
    "    feat_df[\"IsPavedDrive\"] = (feat_df[\"Paved Drive\"] == \"Y\") * 1\n",
    "    feat_df[\"HasShed\"] = (feat_df[\"Misc Feature\"] == \"Shed\") * 1\n",
    "    feat_df[\"Remodeled\"] = (feat_df['Year Remod/Add'] != feat_df[\"Year Built\"]) * 1\n",
    "    #Did the modeling happen during the sale year?\n",
    "    feat_df[\"RecentRemodel\"] = (feat_df[\"Year Remod/Add\"] == feat_df[\"Yr Sold\"]) * 1\n",
    "    # Was this house sold in the year it was built?\n",
    "    feat_df[\"VeryNewHouse\"] = (feat_df[\"Year Built\"] == feat_df[\"Yr Sold\"]) * 1\n",
    "    feat_df[\"Has2ndFloor\"] = (feat_df[\"2nd Flr SF\"] == 0) * 1\n",
    "    feat_df[\"HasMasVnr\"] = (feat_df[\"Mas Vnr Area\"] == 0) * 1\n",
    "    feat_df[\"HasWoodDeck\"] = (feat_df[\"Wood Deck SF\"] == 0) * 1\n",
    "    feat_df[\"HasOpenPorch\"] = (feat_df[\"Open Porch SF\"] == 0) * 1\n",
    "    feat_df[\"HasEnclosedPorch\"] = (feat_df[\"Enclosed Porch\"] == 0) * 1\n",
    "    feat_df[\"Has3SsnPorch\"] = (feat_df[\"3Ssn Porch\"] == 0) * 1\n",
    "    feat_df[\"HasScreenPorch\"] = (feat_df[\"Screen Porch\"] == 0) * 1\n",
    "    #setting levels with high count as 1 and the rest as 0\n",
    "    #we can check for them using the value_counts function\n",
    "    feat_df[\"HighSeason\"] = feat_df[\"Mo Sold\"].replace({1: 0, 2: 0, 3: 0, 4: 1, 5: 1, 6: 1, 7: 1, 8: 0, 9: 0, 10: 0, 11: 0, 12: 0})\n",
    "    feat_df[\"NewerDwelling\"] = feat_df[\"MS SubClass\"].replace({20: 1, 30: 0, 40: 0, 45: 0,50: 0, 60: 1, 70: 0, 75: 0, 80: 0, 85: 0,90: 0, 120: 1, 150: 0, 160: 0, 180: 0, 190: 0})\n",
    "    \n",
    "    #Just like Garage, we have several columns associated with the area of the property. \n",
    "    #An interesting variable could be the sum of all areas for a particular house. In addition, we can also create new features based on the year the house built. \n",
    "\n",
    "    #calculating total area using all area columns\n",
    "    area_cols = ['Lot Frontage', 'Lot Area', 'Mas Vnr Area', 'BsmtFin SF 1', 'BsmtFin SF 2', 'Bsmt Unf SF','Total Bsmt SF', '1st Flr SF', '2nd Flr SF', 'Gr Liv Area', 'Garage Area', 'Wood Deck SF','Open Porch SF', 'Enclosed Porch', '3Ssn Porch', 'Screen Porch', 'Low Qual Fin SF', 'Pool Area' ]\n",
    "    \n",
    "    feat_df[\"TotalArea\"] = feat_df[area_cols].sum(axis=1)\n",
    "    feat_df[\"TotalArea1st2nd\"] = feat_df[\"1st Flr SF\"] + feat_df[\"2nd Flr SF\"]\n",
    "    feat_df[\"Age\"] = 2020 - feat_df[\"Year Built\"]\n",
    "    feat_df[\"TimeSinceSold\"] = 2020 - feat_df[\"Yr Sold\"]\n",
    "    feat_df[\"SeasonSold\"] = train[\"Mo Sold\"].map({12:0, 1:0, 2:0, 3:1, 4:1, 5:1, 6:2, 7:2, 8:2, 9:3, 10:3, 11:3}).astype(int)\n",
    "    feat_df[\"YearsSinceRemodel\"] = feat_df[\"Yr Sold\"] - feat_df[\"Year Remod/Add\"]\n",
    "    # Simplifications of existing features into bad/average/good based on counts\n",
    "    feat_df[\"SimplOverallQual\"] = feat_df['Overall Qual'].map({1 : 1, 2 : 1, 3 : 1, 4 : 2, 5 : 2, 6 : 2, 7 : 3, 8 : 3, 9 : 3, 10 : 3}).astype(int)\n",
    "    feat_df[\"SimplOverallCond\"] = feat_df['Overall Cond'].replace({1 : 1, 2 : 1, 3 : 1, 4 : 2, 5 : 2, 6 : 2, 7 : 3, 8 : 3, 9 : 3, 10 : 3})\n",
    "    feat_df[\"SimplPoolQC\"] = feat_df['Pool QC'].replace({1 : 1, 2 : 1, 3 : 2, 4 : 2})\n",
    "    feat_df[\"SimplGarageCond\"] = feat_df['Garage Cond'].replace({1 : 1, 2 : 1, 3 : 1, 4 : 2, 5 : 2})\n",
    "    feat_df[\"SimplGarageQual\"] = feat_df['Garage Qual'].replace({1 : 1, 2 : 1, 3 : 1, 4 : 2, 5 : 2})\n",
    "    feat_df[\"SimplFireplaceQu\"] = feat_df['Fireplace Qu'].replace({1 : 1, 2 : 1, 3 : 1, 4 : 2, 5 : 2})\n",
    "    feat_df[\"SimplFunctional\"] = feat_df['Functional'].replace({1 : 1, 2 : 1, 3 : 2, 4 : 2, 5 : 3, 6 : 3, 7 : 3, 8 : 4})\n",
    "    feat_df[\"SimplKitchenQual\"] = feat_df['Kitchen Qual'].replace({1 : 1, 2 : 1, 3 : 1, 4 : 2, 5 : 2})\n",
    "    feat_df[\"SimplHeatingQC\"] = feat_df['Heating QC'].replace({1 : 1, 2 : 1, 3 : 1, 4 : 2, 5 : 2})\n",
    "    feat_df[\"SimplBsmtFinType1\"] = feat_df['BsmtFin Type 1'].replace({1 : 1, 2 : 1, 3 : 1, 4 : 2, 5 : 2, 6 : 2})\n",
    "    feat_df[\"SimplBsmtFinType2\"] = feat_df['BsmtFin Type 2'].replace({1 : 1, 2 : 1, 3 : 1, 4 : 2, 5 : 2, 6 : 2})\n",
    "    feat_df[\"SimplBsmtCond\"] = feat_df['Bsmt Cond'].replace({1 : 1, 2 : 1, 3 : 1, 4 : 2, 5 : 2})\n",
    "    feat_df[\"SimplBsmtQual\"] = feat_df['Bsmt Qual'].replace({1 : 1, 2 : 1, 3 : 1, 4 : 2, 5 : 2})\n",
    "    feat_df[\"SimplExterCond\"] = feat_df['Exter Cond'].replace({1 : 1, 2 : 1, 3 : 1, 4 : 2, 5 : 2})\n",
    "    feat_df[\"SimplExterQual\"] = feat_df['Exter Qual'].replace({1 : 1, 2 : 1, 3 : 1, 4 : 2, 5 : 2})\n",
    "    return feat_df"
   ]
  },
  {
   "cell_type": "markdown",
   "metadata": {},
   "source": [
    "we one-hot encode the categorical variable."
   ]
  },
  {
   "cell_type": "code",
   "execution_count": 719,
   "metadata": {},
   "outputs": [],
   "source": [
    "def onehot(onehot_df, df, column_name, fill_na):\n",
    "    onehot_df[column_name] = df[column_name]\n",
    "    if fill_na is not None:\n",
    "        onehot_df[column_name].fillna(fill_na, inplace=True)\n",
    "        dummies = pd.get_dummies(onehot_df[column_name], prefix=\"_\"+column_name)\n",
    "        onehot_df = onehot_df.join(dummies)\n",
    "        onehot_df = onehot_df.drop([column_name], axis=1)\n",
    "        return onehot_df"
   ]
  },
  {
   "cell_type": "code",
   "execution_count": 720,
   "metadata": {},
   "outputs": [],
   "source": [
    "def train_onehot(df):\n",
    "    onehot_df = pd.DataFrame(index = df.index)\n",
    "    onehot_df = onehot(onehot_df, df, \"MS SubClass\", \"None\")\n",
    "    onehot_df = onehot(onehot_df, df, \"MS Zoning\", \"None\")\n",
    "    onehot_df = onehot(onehot_df, df, \"Lot Config\", \"None\")\n",
    "    onehot_df = onehot(onehot_df, df, \"Neighborhood\", \"None\")\n",
    "    onehot_df = onehot(onehot_df, df, \"Condition 1\", \"None\")\n",
    "    onehot_df = onehot(onehot_df, df, \"Bldg Type\", \"None\")\n",
    "    onehot_df = onehot(onehot_df, df, \"House Style\", \"None\")\n",
    "    onehot_df = onehot(onehot_df, df, \"Roof Style\", \"None\")\n",
    "    onehot_df = onehot(onehot_df, df, \"Exterior 1st\", \"None\")\n",
    "    onehot_df = onehot(onehot_df, df, \"Exterior 2nd\", \"None\")\n",
    "    onehot_df = onehot(onehot_df, df, \"Foundation\",\"None\")\n",
    "    onehot_df = onehot(onehot_df, df, \"Sale Type\", \"None\")\n",
    "    onehot_df = onehot(onehot_df, df, \"Sale Condition\", \"None\")\n",
    "    onehot_df = onehot(onehot_df, df, \"Lot Shape\", \"None\")\n",
    "    onehot_df = onehot(onehot_df, df, \"Land Contour\", \"None\")\n",
    "    onehot_df = onehot(onehot_df, df, \"Land Slope\", \"None\")\n",
    "    onehot_df = onehot(onehot_df, df, \"Electrical\", \"SBrkr\")\n",
    "    onehot_df = onehot(onehot_df, df, \"Garage Type\",\"Attchd\") \n",
    "    onehot_df = onehot(onehot_df, df, \"Paved Drive\", \"None\")\n",
    "    onehot_df = onehot(onehot_df, df, \"Misc Feature\",\"Shed\")\n",
    "    onehot_df = onehot(onehot_df, df, \"Street\", \"None\")\n",
    "    onehot_df = onehot(onehot_df, df, \"Alley\",\"Grvl\")\n",
    "    onehot_df = onehot(onehot_df, df, \"Condition 2\", \"None\")\n",
    "    onehot_df = onehot(onehot_df, df, \"Roof Matl\", \"None\")\n",
    "    onehot_df = onehot(onehot_df, df, \"Heating\", \"None\")\n",
    "\n",
    "    # we'll have these as numerical variables too\n",
    "    onehot_df = onehot(onehot_df, df, \"Exter Qual\", \"None\")\n",
    "    onehot_df = onehot(onehot_df, df, \"Exter Cond\", \"None\")\n",
    "    onehot_df = onehot(onehot_df, df, \"Bsmt Qual\", \"TA\")\n",
    "    onehot_df = onehot(onehot_df, df, \"Bsmt Cond\", \"TA\")\n",
    "    onehot_df = onehot(onehot_df, df, \"Heating QC\", \"None\")\n",
    "    onehot_df = onehot(onehot_df, df, \"Kitchen Qual\", \"None\")\n",
    "    onehot_df = onehot(onehot_df, df, \"Fireplace Qu\", \"Gd\")\n",
    "    onehot_df = onehot(onehot_df, df, \"Garage Qual\", 'TA')\n",
    "    onehot_df = onehot(onehot_df, df, \"Garage Cond\", 'TA')\n",
    "    onehot_df = onehot(onehot_df, df, \"Pool QC\", \"TA\")\n",
    "    onehot_df = onehot(onehot_df, df, \"Bsmt Exposure\", \"No\")\n",
    "    onehot_df = onehot(onehot_df, df, \"BsmtFin Type 1\", \"Unf\")\n",
    "    onehot_df = onehot(onehot_df, df, \"BsmtFin Type 2\", \"Unf\")\n",
    "    onehot_df = onehot(onehot_df, df, \"Functional\", \"None\")\n",
    "    onehot_df = onehot(onehot_df, df, \"Garage Finish\", \"Unf\")\n",
    "    onehot_df = onehot(onehot_df, df, \"Fence\", \"MnPrv\")\n",
    "    onehot_df = onehot(onehot_df, df, \"Mo Sold\", \"None\")\n",
    "\n",
    "    return onehot_df"
   ]
  },
  {
   "cell_type": "code",
   "execution_count": 721,
   "metadata": {},
   "outputs": [],
   "source": [
    "label_df = pd.DataFrame(index = train.index, columns = ['SalePrice'])\n",
    "label_df['SalePrice'] = np.log10(train['SalePrice'])"
   ]
  },
  {
   "cell_type": "code",
   "execution_count": 722,
   "metadata": {},
   "outputs": [],
   "source": [
    "#deleting SalePrice variable in train data\n",
    "del train['SalePrice']"
   ]
  },
  {
   "cell_type": "markdown",
   "metadata": {},
   "source": [
    "encoding , feature engineering"
   ]
  },
  {
   "cell_type": "code",
   "execution_count": 723,
   "metadata": {},
   "outputs": [],
   "source": [
    "train = encode_ordinal(train)\n",
    "train = cat_enc(train)\n",
    "train = feat_col(train)"
   ]
  },
  {
   "cell_type": "code",
   "execution_count": 724,
   "metadata": {},
   "outputs": [],
   "source": [
    "onehot_df = train_onehot(train)"
   ]
  },
  {
   "cell_type": "code",
   "execution_count": 725,
   "metadata": {},
   "outputs": [],
   "source": [
    "train = train.join(onehot_df)"
   ]
  },
  {
   "cell_type": "code",
   "execution_count": 726,
   "metadata": {},
   "outputs": [
    {
     "data": {
      "text/plain": [
       "(2389, 407)"
      ]
     },
     "execution_count": 726,
     "metadata": {},
     "output_type": "execute_result"
    }
   ],
   "source": [
    "train.shape"
   ]
  },
  {
   "cell_type": "code",
   "execution_count": 603,
   "metadata": {},
   "outputs": [
    {
     "data": {
      "text/plain": [
       "Electrical         0.000419\n",
       "Bsmt Qual          0.029301\n",
       "Bsmt Cond          0.029301\n",
       "SimplBsmtCond      0.029301\n",
       "SimplBsmtQual      0.029301\n",
       "Garage Type        0.056928\n",
       "Garage Qual        0.057765\n",
       "Garage Cond        0.057765\n",
       "SimplGarageCond    0.057765\n",
       "SimplGarageQual    0.057765\n",
       "Alley              0.933026\n",
       "Misc Feature       0.963165\n",
       "Pool QC            0.995814\n",
       "SimplPoolQC        0.995814\n",
       "dtype: float64"
      ]
     },
     "execution_count": 603,
     "metadata": {},
     "output_type": "execute_result"
    }
   ],
   "source": [
    "miss = train.isnull().sum()/len(train)\n",
    "miss = miss[miss > 0]\n",
    "miss.sort_values(inplace=True)\n",
    "miss"
   ]
  },
  {
   "cell_type": "markdown",
   "metadata": {},
   "source": [
    "According to reference,numeric features are skewed;i'll transform them and remove their skewness"
   ]
  },
  {
   "cell_type": "code",
   "execution_count": 727,
   "metadata": {},
   "outputs": [],
   "source": [
    "#get numeric features\n",
    "numeric_features = [f for f in train.columns if train[f].dtype != object]\n",
    "\n",
    "#transform the numeric features using log(x + 1)\n",
    "from scipy.stats import skew\n",
    "skewed = train[numeric_features].apply(lambda x: skew(x.dropna().astype(float)))\n",
    "skewed = skewed[skewed > 0.75]\n",
    "skewed = skewed.index\n",
    "train[skewed] = np.log1p(train[skewed])"
   ]
  },
  {
   "cell_type": "markdown",
   "metadata": {},
   "source": [
    "Standardizing the numeric features"
   ]
  },
  {
   "cell_type": "code",
   "execution_count": 728,
   "metadata": {},
   "outputs": [],
   "source": [
    "from sklearn.preprocessing import StandardScaler\n",
    "scaler = StandardScaler()\n",
    "scaler.fit(train[numeric_features])\n",
    "scaled = scaler.transform(train[numeric_features])"
   ]
  },
  {
   "cell_type": "code",
   "execution_count": 729,
   "metadata": {},
   "outputs": [
    {
     "name": "stdout",
     "output_type": "stream",
     "text": [
      "<class 'pandas.core.frame.DataFrame'>\n",
      "Int64Index: 2389 entries, 0 to 2429\n",
      "Columns: 366 entries, MS SubClass to _Mo Sold_12\n",
      "dtypes: float64(284), int32(20), int64(18), uint8(44)\n",
      "memory usage: 5.9 MB\n"
     ]
    }
   ],
   "source": [
    "train_pred = train.select_dtypes(include=[np.number])\n",
    "train_pred.info()"
   ]
  },
  {
   "cell_type": "markdown",
   "metadata": {},
   "source": [
    "## Model"
   ]
  },
  {
   "cell_type": "markdown",
   "metadata": {},
   "source": [
    "### intermediate"
   ]
  },
  {
   "cell_type": "markdown",
   "metadata": {},
   "source": [
    "Choosing significant feature for our study"
   ]
  },
  {
   "cell_type": "code",
   "execution_count": 312,
   "metadata": {},
   "outputs": [],
   "source": [
    "col_intermediate=['Garage Cars', 'Bsmt Full Bath','SeasonSold','YearsSinceRemodel','Age', 'TotalArea1st2nd', 'TotalArea',\n",
    "                  'SimplOverallQual', 'SimplOverallCond','IsElectricalSBrkr', 'IsPavedDrive', 'VeryNewHouse','Remodeled']"
   ]
  },
  {
   "cell_type": "code",
   "execution_count": 313,
   "metadata": {},
   "outputs": [],
   "source": [
    "train_intermediate = train_pred[col_intermediate]"
   ]
  },
  {
   "cell_type": "code",
   "execution_count": 314,
   "metadata": {},
   "outputs": [],
   "source": [
    "from sklearn.model_selection import train_test_split\n",
    "X_tr,X_te,y_tr,y_te = train_test_split(train_intermediate,label_df['SalePrice'],train_size=0.5,test_size=0.5,random_state=0)"
   ]
  },
  {
   "cell_type": "code",
   "execution_count": 191,
   "metadata": {},
   "outputs": [],
   "source": [
    "# Define a set of alpha values\n",
    "alphas = np.logspace(-10, 0, num=100)\n",
    "\n",
    "#save score\n",
    "test_scores = []"
   ]
  },
  {
   "cell_type": "code",
   "execution_count": 192,
   "metadata": {},
   "outputs": [],
   "source": [
    "from sklearn.linear_model import LinearRegression, Ridge\n",
    "from sklearn.metrics import mean_squared_error as mse\n",
    "# Grid search\n",
    "for alpha in alphas:\n",
    "    # Ridge regression\n",
    "    ridge = Ridge(alpha)\n",
    "    ridge.fit(X_tr, y_tr)"
   ]
  },
  {
   "cell_type": "code",
   "execution_count": 193,
   "metadata": {},
   "outputs": [],
   "source": [
    "# Test score\n",
    "y_pred = ridge.predict(X_te)\n",
    "test_scores.append(mse(y_te, y_pred))"
   ]
  },
  {
   "cell_type": "code",
   "execution_count": 195,
   "metadata": {},
   "outputs": [
    {
     "name": "stdout",
     "output_type": "stream",
     "text": [
      "Best alpha : 1e-10\n"
     ]
    }
   ],
   "source": [
    "# Find best alpha\n",
    "idx = np.argmin(test_scores)\n",
    "best_alpha = alphas[idx]\n",
    "print('Best alpha :',best_alpha)"
   ]
  },
  {
   "cell_type": "code",
   "execution_count": 196,
   "metadata": {},
   "outputs": [
    {
     "data": {
      "image/png": "[encoded data removed]",
      "text/plain": [
       "<matplotlib.figure.Figure at 0xa4ae184c>"
      ]
     },
     "metadata": {
      "needs_background": "light"
     },
     "output_type": "display_data"
    }
   ],
   "source": [
    "from sklearn import linear_model\n",
    "%matplotlib inline\n",
    "import matplotlib.pyplot as plt\n",
    "\n",
    "rm = linear_model.Ridge(alpha=best_alpha)\n",
    "ridge_model = rm.fit(X_tr,y_tr)\n",
    "preds_ridge = ridge_model.predict(X_te)\n",
    "plt.scatter(y_te,preds_ridge,alpha=.75,color='b')\n",
    "\n",
    "plt.xlabel('Actual Price')\n",
    "plt.ylabel('Predict Price')\n",
    "plt.title('Ridge Regularization with alpha={}'.format(best_alpha))\n",
    "plt.show()"
   ]
  },
  {
   "cell_type": "markdown",
   "metadata": {},
   "source": [
    "### Complex"
   ]
  },
  {
   "cell_type": "code",
   "execution_count": 197,
   "metadata": {},
   "outputs": [],
   "source": [
    "from sklearn.model_selection import train_test_split\n",
    "X_tr,X_te,y_tr,y_te = train_test_split(train_pred,label_df['SalePrice'],train_size=0.5,test_size=0.5,random_state=0)"
   ]
  },
  {
   "cell_type": "code",
   "execution_count": 198,
   "metadata": {},
   "outputs": [],
   "source": [
    "# Define a set of alpha values\n",
    "alphas = np.logspace(-10, 0, num=100)\n",
    "\n",
    "# save score\n",
    "test_scores = []"
   ]
  },
  {
   "cell_type": "code",
   "execution_count": 199,
   "metadata": {},
   "outputs": [
    {
     "name": "stderr",
     "output_type": "stream",
     "text": [
      "/home/xavier/anaconda3/envs/exts-aml1/lib/python3.6/site-packages/scipy/linalg/basic.py:40: RuntimeWarning: scipy.linalg.solve\n",
      "Ill-conditioned matrix detected. Result is not guaranteed to be accurate.\n",
      "Reciprocal condition number/precision: 7.121223599707731e-19 / 1.1102230246251565e-16\n",
      "  RuntimeWarning)\n",
      "/home/xavier/anaconda3/envs/exts-aml1/lib/python3.6/site-packages/scipy/linalg/basic.py:40: RuntimeWarning: scipy.linalg.solve\n",
      "Ill-conditioned matrix detected. Result is not guaranteed to be accurate.\n",
      "Reciprocal condition number/precision: 6.683315682262057e-19 / 1.1102230246251565e-16\n",
      "  RuntimeWarning)\n",
      "/home/xavier/anaconda3/envs/exts-aml1/lib/python3.6/site-packages/scipy/linalg/basic.py:40: RuntimeWarning: scipy.linalg.solve\n",
      "Ill-conditioned matrix detected. Result is not guaranteed to be accurate.\n",
      "Reciprocal condition number/precision: 1.6393734514215265e-18 / 1.1102230246251565e-16\n",
      "  RuntimeWarning)\n",
      "/home/xavier/anaconda3/envs/exts-aml1/lib/python3.6/site-packages/scipy/linalg/basic.py:40: RuntimeWarning: scipy.linalg.solve\n",
      "Ill-conditioned matrix detected. Result is not guaranteed to be accurate.\n",
      "Reciprocal condition number/precision: 2.0114067230894444e-18 / 1.1102230246251565e-16\n",
      "  RuntimeWarning)\n",
      "/home/xavier/anaconda3/envs/exts-aml1/lib/python3.6/site-packages/scipy/linalg/basic.py:40: RuntimeWarning: scipy.linalg.solve\n",
      "Ill-conditioned matrix detected. Result is not guaranteed to be accurate.\n",
      "Reciprocal condition number/precision: 2.611792757476577e-18 / 1.1102230246251565e-16\n",
      "  RuntimeWarning)\n",
      "/home/xavier/anaconda3/envs/exts-aml1/lib/python3.6/site-packages/scipy/linalg/basic.py:40: RuntimeWarning: scipy.linalg.solve\n",
      "Ill-conditioned matrix detected. Result is not guaranteed to be accurate.\n",
      "Reciprocal condition number/precision: 3.2828987037892792e-18 / 1.1102230246251565e-16\n",
      "  RuntimeWarning)\n",
      "/home/xavier/anaconda3/envs/exts-aml1/lib/python3.6/site-packages/scipy/linalg/basic.py:40: RuntimeWarning: scipy.linalg.solve\n",
      "Ill-conditioned matrix detected. Result is not guaranteed to be accurate.\n",
      "Reciprocal condition number/precision: 4.159901886956254e-18 / 1.1102230246251565e-16\n",
      "  RuntimeWarning)\n",
      "/home/xavier/anaconda3/envs/exts-aml1/lib/python3.6/site-packages/scipy/linalg/basic.py:40: RuntimeWarning: scipy.linalg.solve\n",
      "Ill-conditioned matrix detected. Result is not guaranteed to be accurate.\n",
      "Reciprocal condition number/precision: 5.249393816317518e-18 / 1.1102230246251565e-16\n",
      "  RuntimeWarning)\n",
      "/home/xavier/anaconda3/envs/exts-aml1/lib/python3.6/site-packages/scipy/linalg/basic.py:40: RuntimeWarning: scipy.linalg.solve\n",
      "Ill-conditioned matrix detected. Result is not guaranteed to be accurate.\n",
      "Reciprocal condition number/precision: 6.6249210254147956e-18 / 1.1102230246251565e-16\n",
      "  RuntimeWarning)\n",
      "/home/xavier/anaconda3/envs/exts-aml1/lib/python3.6/site-packages/scipy/linalg/basic.py:40: RuntimeWarning: scipy.linalg.solve\n",
      "Ill-conditioned matrix detected. Result is not guaranteed to be accurate.\n",
      "Reciprocal condition number/precision: 8.360395609569745e-18 / 1.1102230246251565e-16\n",
      "  RuntimeWarning)\n",
      "/home/xavier/anaconda3/envs/exts-aml1/lib/python3.6/site-packages/scipy/linalg/basic.py:40: RuntimeWarning: scipy.linalg.solve\n",
      "Ill-conditioned matrix detected. Result is not guaranteed to be accurate.\n",
      "Reciprocal condition number/precision: 1.0550739115691266e-17 / 1.1102230246251565e-16\n",
      "  RuntimeWarning)\n",
      "/home/xavier/anaconda3/envs/exts-aml1/lib/python3.6/site-packages/scipy/linalg/basic.py:40: RuntimeWarning: scipy.linalg.solve\n",
      "Ill-conditioned matrix detected. Result is not guaranteed to be accurate.\n",
      "Reciprocal condition number/precision: 1.3313898384491892e-17 / 1.1102230246251565e-16\n",
      "  RuntimeWarning)\n",
      "/home/xavier/anaconda3/envs/exts-aml1/lib/python3.6/site-packages/scipy/linalg/basic.py:40: RuntimeWarning: scipy.linalg.solve\n",
      "Ill-conditioned matrix detected. Result is not guaranteed to be accurate.\n",
      "Reciprocal condition number/precision: 1.6801073697069496e-17 / 1.1102230246251565e-16\n",
      "  RuntimeWarning)\n",
      "/home/xavier/anaconda3/envs/exts-aml1/lib/python3.6/site-packages/scipy/linalg/basic.py:40: RuntimeWarning: scipy.linalg.solve\n",
      "Ill-conditioned matrix detected. Result is not guaranteed to be accurate.\n",
      "Reciprocal condition number/precision: 1.8506873012237165e-17 / 1.1102230246251565e-16\n",
      "  RuntimeWarning)\n",
      "/home/xavier/anaconda3/envs/exts-aml1/lib/python3.6/site-packages/scipy/linalg/basic.py:40: RuntimeWarning: scipy.linalg.solve\n",
      "Ill-conditioned matrix detected. Result is not guaranteed to be accurate.\n",
      "Reciprocal condition number/precision: 2.6753447306202814e-17 / 1.1102230246251565e-16\n",
      "  RuntimeWarning)\n",
      "/home/xavier/anaconda3/envs/exts-aml1/lib/python3.6/site-packages/scipy/linalg/basic.py:40: RuntimeWarning: scipy.linalg.solve\n",
      "Ill-conditioned matrix detected. Result is not guaranteed to be accurate.\n",
      "Reciprocal condition number/precision: 2.9468367540878667e-17 / 1.1102230246251565e-16\n",
      "  RuntimeWarning)\n",
      "/home/xavier/anaconda3/envs/exts-aml1/lib/python3.6/site-packages/scipy/linalg/basic.py:40: RuntimeWarning: scipy.linalg.solve\n",
      "Ill-conditioned matrix detected. Result is not guaranteed to be accurate.\n",
      "Reciprocal condition number/precision: 4.2599976413392325e-17 / 1.1102230246251565e-16\n",
      "  RuntimeWarning)\n",
      "/home/xavier/anaconda3/envs/exts-aml1/lib/python3.6/site-packages/scipy/linalg/basic.py:40: RuntimeWarning: scipy.linalg.solve\n",
      "Ill-conditioned matrix detected. Result is not guaranteed to be accurate.\n",
      "Reciprocal condition number/precision: 4.6923263011047234e-17 / 1.1102230246251565e-16\n",
      "  RuntimeWarning)\n",
      "/home/xavier/anaconda3/envs/exts-aml1/lib/python3.6/site-packages/scipy/linalg/basic.py:40: RuntimeWarning: scipy.linalg.solve\n",
      "Ill-conditioned matrix detected. Result is not guaranteed to be accurate.\n",
      "Reciprocal condition number/precision: 6.78328899077014e-17 / 1.1102230246251565e-16\n",
      "  RuntimeWarning)\n",
      "/home/xavier/anaconda3/envs/exts-aml1/lib/python3.6/site-packages/scipy/linalg/basic.py:40: RuntimeWarning: scipy.linalg.solve\n",
      "Ill-conditioned matrix detected. Result is not guaranteed to be accurate.\n",
      "Reciprocal condition number/precision: 8.559640663673793e-17 / 1.1102230246251565e-16\n",
      "  RuntimeWarning)\n",
      "/home/xavier/anaconda3/envs/exts-aml1/lib/python3.6/site-packages/scipy/linalg/basic.py:40: RuntimeWarning: scipy.linalg.solve\n",
      "Ill-conditioned matrix detected. Result is not guaranteed to be accurate.\n",
      "Reciprocal condition number/precision: 1.0801079807035828e-16 / 1.1102230246251565e-16\n",
      "  RuntimeWarning)\n"
     ]
    }
   ],
   "source": [
    "# Grid search\n",
    "for alpha in alphas:\n",
    "    # Ridge regression\n",
    "    ridge = Ridge(alpha)\n",
    "  #  ridge.fit(X_tr, y_tr)\n",
    "    ridge.fit(X_tr, y_tr)"
   ]
  },
  {
   "cell_type": "code",
   "execution_count": 200,
   "metadata": {},
   "outputs": [],
   "source": [
    "# Test score\n",
    "y_pred = ridge.predict(X_te)\n",
    "test_scores.append(mse(y_te, y_pred))"
   ]
  },
  {
   "cell_type": "code",
   "execution_count": 202,
   "metadata": {},
   "outputs": [
    {
     "name": "stdout",
     "output_type": "stream",
     "text": [
      "Best alpha : 1e-10\n"
     ]
    }
   ],
   "source": [
    "# Find best alpha\n",
    "idx = np.argmin(test_scores)\n",
    "best_alpha = alphas[idx]\n",
    "print('Best alpha :',best_alpha)"
   ]
  },
  {
   "cell_type": "code",
   "execution_count": 203,
   "metadata": {},
   "outputs": [
    {
     "data": {
      "image/png": "[encoded data removed]",
      "text/plain": [
       "<matplotlib.figure.Figure at 0xad633acc>"
      ]
     },
     "metadata": {
      "needs_background": "light"
     },
     "output_type": "display_data"
    }
   ],
   "source": [
    "from sklearn import linear_model\n",
    "%matplotlib inline\n",
    "import matplotlib.pyplot as plt\n",
    "\n",
    "rm = linear_model.Ridge(alpha=best_alpha)\n",
    "ridge_model = rm.fit(X_tr,y_tr)\n",
    "preds_ridge = ridge_model.predict(X_te)\n",
    "plt.scatter(y_te,preds_ridge,alpha=.75,color='b')\n",
    "\n",
    "plt.xlabel('Actual Price')\n",
    "plt.ylabel('Predict Price')\n",
    "plt.title('Ridge Regularization with alpha={}'.format(best_alpha))\n",
    "plt.show()"
   ]
  },
  {
   "cell_type": "markdown",
   "metadata": {},
   "source": [
    "## Model Evaluation"
   ]
  },
  {
   "cell_type": "code",
   "execution_count": 204,
   "metadata": {},
   "outputs": [],
   "source": [
    "def MAE(y,y_pred):\n",
    "    return np.mean(np.abs(y-y_pred))"
   ]
  },
  {
   "cell_type": "code",
   "execution_count": 205,
   "metadata": {},
   "outputs": [],
   "source": [
    "def RMSLE(y,y_pred):\n",
    "    return np.sqrt(np.mean(np.square(y-y_pred)))"
   ]
  },
  {
   "cell_type": "markdown",
   "metadata": {},
   "source": [
    "### Simple"
   ]
  },
  {
   "cell_type": "code",
   "execution_count": 206,
   "metadata": {},
   "outputs": [],
   "source": [
    "col_simple = ['TotalArea','VeryNewHouse']\n",
    "train_simple = train_pred[col_simple]"
   ]
  },
  {
   "cell_type": "code",
   "execution_count": 207,
   "metadata": {},
   "outputs": [],
   "source": [
    "from sklearn.model_selection import train_test_split\n",
    "X_tr,X_te,y_tr,y_te = train_test_split(train_simple,label_df['SalePrice'],train_size=0.5,test_size=0.5,random_state=0)"
   ]
  },
  {
   "cell_type": "code",
   "execution_count": 208,
   "metadata": {},
   "outputs": [
    {
     "name": "stdout",
     "output_type": "stream",
     "text": [
      "RMSLE Simple is:\n",
      " 0.3418290193739365\n"
     ]
    }
   ],
   "source": [
    "from sklearn.linear_model import LinearRegression\n",
    "lrs = LinearRegression()\n",
    "lrs.fit(X_tr,y_tr)\n",
    "y_pred_te = lrs.predict(X_te)\n",
    "lr_rmlse_te = RMSLE(y_te, y_pred_te)\n",
    "print('RMSLE Simple is:\\n',lr_rmlse_te)"
   ]
  },
  {
   "cell_type": "code",
   "execution_count": 209,
   "metadata": {},
   "outputs": [],
   "source": [
    "from sklearn.linear_model import LinearRegression\n",
    "\n",
    "# Function to fit a linear regression\n",
    "def fit_lr(X_train, y_train, X_test):\n",
    "    # Create a linear regression\n",
    "    lrs = LinearRegression()\n",
    "    \n",
    "    # Fit it to train data\n",
    "    lrs.fit(X_train, y_train)\n",
    "    \n",
    "    # Compute predictions for test set\n",
    "    y_pred = lrs.predict(X_test)\n",
    "    return y_pred"
   ]
  },
  {
   "cell_type": "code",
   "execution_count": 210,
   "metadata": {},
   "outputs": [
    {
     "name": "stdout",
     "output_type": "stream",
     "text": [
      "MAE Simple:\n",
      " 0.25442986773951204\n"
     ]
    }
   ],
   "source": [
    "# Linear regression\n",
    "y_pred = fit_lr(X_tr, y_tr, X_te)\n",
    "mae_lr_simple = MAE(y_te, y_pred)\n",
    "print('MAE Simple:\\n',mae_lr_simple)"
   ]
  },
  {
   "cell_type": "markdown",
   "metadata": {},
   "source": [
    "### Intermediate"
   ]
  },
  {
   "cell_type": "code",
   "execution_count": 211,
   "metadata": {},
   "outputs": [],
   "source": [
    "col_intermediate=['Garage Cars', 'Bsmt Full Bath','SeasonSold','YearsSinceRemodel','Age', 'TotalArea1st2nd', 'TotalArea',\n",
    "                  'SimplOverallQual', 'SimplOverallCond','IsElectricalSBrkr', 'IsPavedDrive', 'VeryNewHouse','Remodeled']"
   ]
  },
  {
   "cell_type": "code",
   "execution_count": 212,
   "metadata": {},
   "outputs": [],
   "source": [
    "train_intermediate = train_pred[col_intermediate]"
   ]
  },
  {
   "cell_type": "code",
   "execution_count": 213,
   "metadata": {},
   "outputs": [],
   "source": [
    "from sklearn.model_selection import train_test_split\n",
    "X_tr,X_te,y_tr,y_te = train_test_split(train_intermediate,label_df['SalePrice'],train_size=0.5,test_size=0.5,random_state=0)"
   ]
  },
  {
   "cell_type": "code",
   "execution_count": 214,
   "metadata": {},
   "outputs": [
    {
     "name": "stdout",
     "output_type": "stream",
     "text": [
      "RMSLE Intermediate is:\n",
      " 0.1618736193225331\n"
     ]
    }
   ],
   "source": [
    "from sklearn.linear_model import LinearRegression\n",
    "lri = LinearRegression()\n",
    "lri.fit(X_tr,y_tr)\n",
    "y_pred_te = lri.predict(X_te)\n",
    "lr_rmlse_te = RMSLE(y_te, y_pred_te)\n",
    "print('RMSLE Intermediate is:\\n',lr_rmlse_te)"
   ]
  },
  {
   "cell_type": "code",
   "execution_count": 215,
   "metadata": {},
   "outputs": [],
   "source": [
    "from sklearn.linear_model import LinearRegression\n",
    "\n",
    "# Function to fit a linear regression\n",
    "def fit_lr(X_train, y_train, X_test):\n",
    "    # Create a linear regression\n",
    "    lri = LinearRegression()\n",
    "    \n",
    "    # Fit it to train data\n",
    "    lri.fit(X_train, y_train)\n",
    "    \n",
    "    # Compute predictions for test set\n",
    "    y_pred = lri.predict(X_test)\n",
    "    return y_pred"
   ]
  },
  {
   "cell_type": "code",
   "execution_count": 216,
   "metadata": {},
   "outputs": [
    {
     "name": "stdout",
     "output_type": "stream",
     "text": [
      "MAE Intermediate:\n",
      " 0.11520041739247261\n"
     ]
    }
   ],
   "source": [
    "# Linear regression\n",
    "y_pred = fit_lr(X_tr, y_tr, X_te)\n",
    "mae_lr_intermediate = MAE(y_te, y_pred)\n",
    "print('MAE Intermediate:\\n',mae_lr_intermediate)"
   ]
  },
  {
   "cell_type": "markdown",
   "metadata": {},
   "source": [
    "### Complex"
   ]
  },
  {
   "cell_type": "code",
   "execution_count": 217,
   "metadata": {},
   "outputs": [],
   "source": [
    "from sklearn.model_selection import train_test_split\n",
    "X_tr,X_te,y_tr,y_te = train_test_split(train_pred,label_df['SalePrice'],train_size=0.5,test_size=0.5,random_state=0)"
   ]
  },
  {
   "cell_type": "code",
   "execution_count": 218,
   "metadata": {},
   "outputs": [],
   "source": [
    "def RMSLE(y,y_pred):\n",
    "    return np.sqrt(np.mean(np.square(y-y_pred)))"
   ]
  },
  {
   "cell_type": "code",
   "execution_count": 219,
   "metadata": {},
   "outputs": [
    {
     "name": "stdout",
     "output_type": "stream",
     "text": [
      "RMSLE is:\n",
      " 0.1302054801585094\n"
     ]
    }
   ],
   "source": [
    "from sklearn.linear_model import LinearRegression\n",
    "lrc = LinearRegression()\n",
    "lrc.fit(X_tr,y_tr)\n",
    "y_pred_te = lrc.predict(X_te)\n",
    "lr_rmlse_te = RMSLE(y_te, y_pred_te)\n",
    "print('RMSLE is:\\n',lr_rmlse_te)"
   ]
  },
  {
   "cell_type": "code",
   "execution_count": 220,
   "metadata": {},
   "outputs": [],
   "source": [
    "def MAE(y,y_pred):\n",
    "    return np.mean(np.abs(y-y_pred))"
   ]
  },
  {
   "cell_type": "code",
   "execution_count": 221,
   "metadata": {},
   "outputs": [],
   "source": [
    "from sklearn.linear_model import LinearRegression\n",
    "\n",
    "# Function to fit a linear regression\n",
    "def fit_lr(X_train, y_train, X_test):\n",
    "    # Create a linear regression\n",
    "    lrc = LinearRegression()\n",
    "    \n",
    "    # Fit it to train data\n",
    "    lrc.fit(X_train, y_train)\n",
    "    \n",
    "    # Compute predictions for test set\n",
    "    y_pred = lrc.predict(X_test)\n",
    "    return y_pred"
   ]
  },
  {
   "cell_type": "code",
   "execution_count": 222,
   "metadata": {},
   "outputs": [
    {
     "name": "stdout",
     "output_type": "stream",
     "text": [
      "MAE linear regression:\n",
      " 0.08428441226471273\n"
     ]
    }
   ],
   "source": [
    "# Linear regression\n",
    "y_pred = fit_lr(X_tr, y_tr, X_te)\n",
    "mae_lr_complex = MAE(y_te, y_pred)\n",
    "print('MAE linear regression:\\n',mae_lr_complex)"
   ]
  },
  {
   "cell_type": "code",
   "execution_count": 223,
   "metadata": {},
   "outputs": [
    {
     "data": {
      "image/png": "[encoded data removed]",
      "text/plain": [
       "<matplotlib.figure.Figure at 0xa38f730c>"
      ]
     },
     "metadata": {
      "needs_background": "light"
     },
     "output_type": "display_data"
    }
   ],
   "source": [
    "# (C) Final comparison\n",
    "# Baseline\n",
    "\n",
    "\n",
    "# Bar plot\n",
    "mae_values = [mae_lr_simple, mae_lr_intermediate, mae_lr_complex]\n",
    "titles = ['simple', 'intermediate', 'complex']\n",
    "\n",
    "xcor = np.arange(len(mae_values))\n",
    "plt.bar(xcor, mae_values)\n",
    "plt.xticks(xcor, titles)\n",
    "\n",
    "plt.ylabel('MAE')\n",
    "plt.show()"
   ]
  },
  {
   "cell_type": "markdown",
   "metadata": {},
   "source": [
    "## Computing predictions"
   ]
  },
  {
   "cell_type": "code",
   "execution_count": 730,
   "metadata": {},
   "outputs": [],
   "source": [
    "test=pd.read_csv('/home/xavier/exts-ida/course3/house-prices/house-prices-test.csv')"
   ]
  },
  {
   "cell_type": "code",
   "execution_count": 672,
   "metadata": {},
   "outputs": [
    {
     "data": {
      "text/plain": [
       "Mas Vnr Type      0.006\n",
       "Mas Vnr Area      0.006\n",
       "BsmtFin Type 2    0.018\n",
       "Bsmt Qual         0.018\n",
       "Bsmt Cond         0.018\n",
       "Bsmt Exposure     0.018\n",
       "BsmtFin Type 1    0.018\n",
       "Garage Cond       0.042\n",
       "Garage Qual       0.042\n",
       "Garage Finish     0.042\n",
       "Garage Type       0.042\n",
       "Garage Yr Blt     0.042\n",
       "Lot Frontage      0.140\n",
       "Fireplace Qu      0.472\n",
       "Fence             0.834\n",
       "Alley             0.930\n",
       "Misc Feature      0.968\n",
       "Pool QC           0.998\n",
       "dtype: float64"
      ]
     },
     "execution_count": 672,
     "metadata": {},
     "output_type": "execute_result"
    }
   ],
   "source": [
    "miss = test.isnull().sum()/len(test)\n",
    "miss = miss[miss > 0]\n",
    "miss.sort_values(inplace=True)\n",
    "miss"
   ]
  },
  {
   "cell_type": "code",
   "execution_count": 731,
   "metadata": {},
   "outputs": [],
   "source": [
    "test[\"Mas Vnr Area\"].fillna(0, inplace=True)\n",
    "test[\"Mas Vnr Type\"].fillna('None', inplace=True)\n",
    "test[\"Bsmt Qual\"].fillna('TA', inplace=True)\n",
    "test[\"Bsmt Cond\"].fillna('TA', inplace=True)\n",
    "test[\"Bsmt Exposure\"].fillna('No', inplace=True)\n",
    "test[\"BsmtFin Type 1\"].fillna('Unf', inplace=True)\n",
    "test[\"BsmtFin Type 2\"].fillna('Unf', inplace=True)\n",
    "test[\"Garage Type\"].fillna('Attchd', inplace=True)\n",
    "test[\"Garage Cond\"].fillna('TA', inplace=True)\n",
    "test[\"Garage Finish\"].fillna('Unf', inplace=True)\n",
    "test[\"Bsmt Qual\"].fillna('TA', inplace=True)\n",
    "test[\"Bsmt Cond\"].fillna('TA', inplace=True)\n",
    "test[\"Fireplace Qu\"].fillna('Gd', inplace=True)\n",
    "test[\"Fence\"].fillna('MnPrv', inplace=True)\n",
    "test[\"Alley\"].fillna('Grvl', inplace=True)\n",
    "test[\"Garage Qual\"].fillna('Attchd', inplace=True)\n",
    "test[\"Misc Feature\"].fillna('Shed', inplace=True)\n",
    "test[\"Pool QC\"].fillna('TA', inplace=True)\n",
    "#test[\"SeasonSold\"].fillna(0, inplace=True)"
   ]
  },
  {
   "cell_type": "code",
   "execution_count": 732,
   "metadata": {},
   "outputs": [],
   "source": [
    "#The combined data set has 2915 rows and 81 columns. Now, we'll impute the LotFrontage variable. \n",
    "#impute lotfrontage by median of neighborhood\n",
    "lot_frontage_by_neighborhood = test['Lot Frontage'].groupby(test['Neighborhood'])\n",
    "\n",
    "for key, group in lot_frontage_by_neighborhood:\n",
    "                idx = (test['Neighborhood'] == key) & (test['Lot Frontage'].isnull())\n",
    "                test.loc[idx, 'Lot Frontage'] = group.median()"
   ]
  },
  {
   "cell_type": "code",
   "execution_count": 733,
   "metadata": {},
   "outputs": [],
   "source": [
    "test[\"Garage Yr Blt\"].fillna(np.nanmedian(test[\"Garage Yr Blt\"]), inplace=True)"
   ]
  },
  {
   "cell_type": "code",
   "execution_count": 693,
   "metadata": {},
   "outputs": [
    {
     "data": {
      "text/plain": [
       "(500, 81)"
      ]
     },
     "execution_count": 693,
     "metadata": {},
     "output_type": "execute_result"
    }
   ],
   "source": [
    "test.shape"
   ]
  },
  {
   "cell_type": "code",
   "execution_count": 370,
   "metadata": {},
   "outputs": [],
   "source": []
  },
  {
   "cell_type": "markdown",
   "metadata": {},
   "source": [
    "encoding , feature engineering"
   ]
  },
  {
   "cell_type": "code",
   "execution_count": 734,
   "metadata": {},
   "outputs": [],
   "source": [
    "test = encode_ordinal(test)\n",
    "test = cat_enc(test)\n",
    "test = feat_col(test)"
   ]
  },
  {
   "cell_type": "code",
   "execution_count": 735,
   "metadata": {},
   "outputs": [],
   "source": [
    "onehot_df = train_onehot(test)"
   ]
  },
  {
   "cell_type": "code",
   "execution_count": 736,
   "metadata": {},
   "outputs": [],
   "source": [
    "test = test.join(onehot_df)"
   ]
  },
  {
   "cell_type": "code",
   "execution_count": 737,
   "metadata": {},
   "outputs": [
    {
     "data": {
      "text/plain": [
       "(500, 367)"
      ]
     },
     "execution_count": 737,
     "metadata": {},
     "output_type": "execute_result"
    }
   ],
   "source": [
    "test.shape"
   ]
  },
  {
   "cell_type": "code",
   "execution_count": 738,
   "metadata": {},
   "outputs": [
    {
     "data": {
      "text/plain": [
       "SeasonSold    0.014\n",
       "dtype: float64"
      ]
     },
     "execution_count": 738,
     "metadata": {},
     "output_type": "execute_result"
    }
   ],
   "source": [
    "miss = test.isnull().sum()/len(test)\n",
    "miss = miss[miss > 0]\n",
    "miss.sort_values(inplace=True)\n",
    "miss"
   ]
  },
  {
   "cell_type": "code",
   "execution_count": 739,
   "metadata": {},
   "outputs": [],
   "source": [
    "test[\"SeasonSold\"].fillna(0, inplace=True)"
   ]
  },
  {
   "cell_type": "code",
   "execution_count": 684,
   "metadata": {},
   "outputs": [
    {
     "name": "stdout",
     "output_type": "stream",
     "text": [
      "train shape : (2389, 327)\n",
      "-----------\n",
      "test shape : (500, 327)\n"
     ]
    }
   ],
   "source": [
    "print('train shape :',train_pred.shape)\n",
    "print('-----------')\n",
    "print('test shape :',test_pred.shape)"
   ]
  },
  {
   "cell_type": "code",
   "execution_count": 740,
   "metadata": {},
   "outputs": [],
   "source": [
    "test_cp = test.copy()"
   ]
  },
  {
   "cell_type": "code",
   "execution_count": 741,
   "metadata": {},
   "outputs": [],
   "source": [
    "#dropping some columns from the test data as they are not found in train\n",
    "del test['_Exterior 2nd_Other']\n",
    "del test['_Roof Matl_Roll']\n",
    "del test['PID']\n",
    "del test['Order']"
   ]
  },
  {
   "cell_type": "code",
   "execution_count": 742,
   "metadata": {},
   "outputs": [],
   "source": [
    "#get numeric features\n",
    "numeric_features = [f for f in test.columns if test[f].dtype != object]\n",
    "\n",
    "#transform the numeric features using log(x + 1)\n",
    "from scipy.stats import skew\n",
    "skewed = test[numeric_features].apply(lambda x: skew(x.dropna().astype(float)))\n",
    "skewed = skewed[skewed > 0.75]\n",
    "skewed = skewed.index\n",
    "test[skewed] = np.log1p(test[skewed])"
   ]
  },
  {
   "cell_type": "code",
   "execution_count": 743,
   "metadata": {},
   "outputs": [],
   "source": [
    "from sklearn.preprocessing import StandardScaler\n",
    "scaler = StandardScaler()\n",
    "scaler.fit(test[numeric_features])\n",
    "scaled = scaler.transform(test[numeric_features])"
   ]
  },
  {
   "cell_type": "code",
   "execution_count": 745,
   "metadata": {},
   "outputs": [
    {
     "name": "stdout",
     "output_type": "stream",
     "text": [
      "<class 'pandas.core.frame.DataFrame'>\n",
      "RangeIndex: 500 entries, 0 to 499\n",
      "Columns: 322 entries, MS SubClass to _Mo Sold_12\n",
      "dtypes: float64(239), int32(21), int64(19), uint8(43)\n",
      "memory usage: 1.0 MB\n"
     ]
    }
   ],
   "source": [
    "test_pred = test.select_dtypes(include=[np.number])\n",
    "test_pred.info()"
   ]
  },
  {
   "cell_type": "markdown",
   "metadata": {},
   "source": [
    "The difference in number of train and test columns suggests that some new features in the train data aren't available in the test data. Let's remove those variables and keep an equal number of columns in the train and test data."
   ]
  },
  {
   "cell_type": "code",
   "execution_count": 751,
   "metadata": {},
   "outputs": [
    {
     "data": {
      "text/plain": [
       "Index(['_Garage Qual_Attchd'], dtype='object')"
      ]
     },
     "execution_count": 751,
     "metadata": {},
     "output_type": "execute_result"
    }
   ],
   "source": [
    "# visualizing difference between train and test data\n",
    "a=train_pred.columns.symmetric_difference(test_pred.columns)\n",
    "a"
   ]
  },
  {
   "cell_type": "code",
   "execution_count": 408,
   "metadata": {},
   "outputs": [],
   "source": [
    "train_pred_cp = train_pred.copy()"
   ]
  },
  {
   "cell_type": "code",
   "execution_count": 748,
   "metadata": {},
   "outputs": [
    {
     "name": "stderr",
     "output_type": "stream",
     "text": [
      "/home/xavier/anaconda3/envs/exts-aml1/lib/python3.6/site-packages/ipykernel_launcher.py:11: SettingWithCopyWarning: \n",
      "A value is trying to be set on a copy of a slice from a DataFrame\n",
      "\n",
      "See the caveats in the documentation: http://pandas.pydata.org/pandas-docs/stable/indexing.html#indexing-view-versus-copy\n",
      "  # This is added back by InteractiveShellApp.init_path()\n"
     ]
    }
   ],
   "source": [
    "drop_cols = ['_Bsmt Exposure_0', '_BsmtFin Type 1_0', '_BsmtFin Type 2_0',\n",
    "'_Condition 2_Artery', '_Condition 2_PosA', '_Condition 2_RRAe','_Condition 2_RRAn', '_Condition 2_RRNn', '_Electrical_Mix',\n",
    "'_Exter Cond_Ex', '_Exter Cond_Po', '_Exterior 1st_AsphShn','_Exterior 1st_BrkComm', '_Exterior 1st_CBlock',\n",
    "'_Exterior 1st_ImStucc', '_Exterior 1st_PreCast', '_Exterior 1st_Stone','_Exterior 2nd_AsphShn', '_Exterior 2nd_PreCast', '_Fence_0',\n",
    "'_Fireplace Qu_0', '_Foundation_Wood', '_Functional_2','_Garage Cond_Po', '_Garage Finish_0',\n",
    "'_Garage Qual_Po', '_Heating_Floor', '_Kitchen Qual_Po','_Land Slope_Sev', '_MS SubClass_150', '_MS Zoning_A (agr)',\n",
    "'_MS Zoning_I (all)', '_Misc Feature_Gar2', '_Misc Feature_TenC','_Neighborhood_Greens', '_Neighborhood_GrnHill',\n",
    "'_Neighborhood_Landmrk', '_Pool QC_Ex', '_Pool QC_Fa','_Roof Matl_Membran', '_Roof Matl_Metal', '_Roof Matl_WdShngl',\n",
    "'_Roof Style_Shed', '_Sale Type_Con', '_Sale Type_VWD']\n",
    "\n",
    "train_pred.drop(drop_cols, axis=1, inplace=True)"
   ]
  },
  {
   "cell_type": "code",
   "execution_count": 752,
   "metadata": {},
   "outputs": [],
   "source": [
    "#del test_pred['_Garage Qual_Attchd'] "
   ]
  },
  {
   "cell_type": "code",
   "execution_count": 493,
   "metadata": {},
   "outputs": [
    {
     "name": "stdout",
     "output_type": "stream",
     "text": [
      "train shape : (2389, 327)\n",
      "-----------\n",
      "test shape : (500, 327)\n"
     ]
    }
   ],
   "source": [
    "#print('train shape :',train_pred.shape)\n",
    "#print('-----------')\n",
    "#print('test shape :',test_pred.shape)"
   ]
  },
  {
   "cell_type": "code",
   "execution_count": 749,
   "metadata": {},
   "outputs": [
    {
     "name": "stdout",
     "output_type": "stream",
     "text": [
      "<class 'pandas.core.frame.DataFrame'>\n",
      "RangeIndex: 500 entries, 0 to 499\n",
      "Columns: 322 entries, MS SubClass to _Mo Sold_12\n",
      "dtypes: float64(239), int32(21), int64(19), uint8(43)\n",
      "memory usage: 1.0 MB\n"
     ]
    }
   ],
   "source": [
    "test_pred = test.select_dtypes(include=[np.number])\n",
    "test_pred.info()"
   ]
  },
  {
   "cell_type": "code",
   "execution_count": null,
   "metadata": {},
   "outputs": [],
   "source": [
    "del test_pred['_Garage Qual_Attchd'] "
   ]
  },
  {
   "cell_type": "code",
   "execution_count": 753,
   "metadata": {},
   "outputs": [
    {
     "name": "stdout",
     "output_type": "stream",
     "text": [
      "train shape : (2389, 321)\n",
      "-----------\n",
      "test shape : (500, 321)\n"
     ]
    }
   ],
   "source": [
    "print('train shape :',train_pred.shape)\n",
    "print('-----------')\n",
    "print('test shape :',test_pred.shape)"
   ]
  },
  {
   "cell_type": "code",
   "execution_count": 754,
   "metadata": {},
   "outputs": [
    {
     "data": {
      "text/plain": [
       "Series([], dtype: float64)"
      ]
     },
     "execution_count": 754,
     "metadata": {},
     "output_type": "execute_result"
    }
   ],
   "source": [
    "miss = test_pred.isnull().sum()/len(test_pred)\n",
    "miss = miss[miss > 0]\n",
    "miss.sort_values(inplace=True)\n",
    "miss"
   ]
  },
  {
   "cell_type": "code",
   "execution_count": 761,
   "metadata": {},
   "outputs": [],
   "source": [
    "from sklearn.linear_model import LinearRegression\n",
    "\n",
    "# Create a linear regression\n",
    "lrc = LinearRegression()\n",
    "\n",
    "# Fit it to train data\n",
    "lrc.fit(train_pred, label_df['SalePrice'])\n",
    "    \n",
    " # Compute predictions for test set\n",
    "predictions = 10**lrc.predict(test_pred)\n"
   ]
  },
  {
   "cell_type": "code",
   "execution_count": 762,
   "metadata": {},
   "outputs": [],
   "source": [
    "pred_df= pd.DataFrame.from_items([\n",
    "    ('PID',test_cp['PID']),\n",
    "    ('SalePrice',predictions)\n",
    "])"
   ]
  },
  {
   "cell_type": "code",
   "execution_count": 763,
   "metadata": {},
   "outputs": [
    {
     "data": {
      "text/plain": [
       "count       500.000000\n",
       "mean      63295.117902\n",
       "std       29257.535510\n",
       "min        4329.511910\n",
       "25%       42745.726939\n",
       "50%       57409.304973\n",
       "75%       78388.268592\n",
       "max      235053.914901\n",
       "Name: SalePrice, dtype: float64"
      ]
     },
     "execution_count": 763,
     "metadata": {},
     "output_type": "execute_result"
    }
   ],
   "source": [
    "pred_df.SalePrice.describe()"
   ]
  },
  {
   "cell_type": "code",
   "execution_count": null,
   "metadata": {},
   "outputs": [],
   "source": []
  },
  {
   "cell_type": "code",
   "execution_count": 383,
   "metadata": {},
   "outputs": [
    {
     "data": {
      "text/plain": [
       "SeasonSold    0.014\n",
       "dtype: float64"
      ]
     },
     "execution_count": 383,
     "metadata": {},
     "output_type": "execute_result"
    }
   ],
   "source": [
    "\n",
    "miss = test_pred.isnull().sum()/len(test_pred)\n",
    "miss = miss[miss > 0]\n",
    "miss.sort_values(inplace=True)\n",
    "miss"
   ]
  },
  {
   "cell_type": "code",
   "execution_count": 258,
   "metadata": {},
   "outputs": [
    {
     "data": {
      "text/html": [
       "<div>\n",
       "<style scoped>\n",
       "    .dataframe tbody tr th:only-of-type {\n",
       "        vertical-align: middle;\n",
       "    }\n",
       "\n",
       "    .dataframe tbody tr th {\n",
       "        vertical-align: top;\n",
       "    }\n",
       "\n",
       "    .dataframe thead th {\n",
       "        text-align: right;\n",
       "    }\n",
       "</style>\n",
       "<table border=\"1\" class=\"dataframe\">\n",
       "  <thead>\n",
       "    <tr style=\"text-align: right;\">\n",
       "      <th></th>\n",
       "      <th>MS SubClass</th>\n",
       "      <th>Lot Frontage</th>\n",
       "      <th>Lot Area</th>\n",
       "      <th>Overall Qual</th>\n",
       "      <th>Overall Cond</th>\n",
       "      <th>Year Built</th>\n",
       "      <th>Year Remod/Add</th>\n",
       "      <th>Mas Vnr Type</th>\n",
       "      <th>Mas Vnr Area</th>\n",
       "      <th>Exter Qual</th>\n",
       "      <th>...</th>\n",
       "      <th>_Mo Sold_3</th>\n",
       "      <th>_Mo Sold_4</th>\n",
       "      <th>_Mo Sold_5</th>\n",
       "      <th>_Mo Sold_6</th>\n",
       "      <th>_Mo Sold_7</th>\n",
       "      <th>_Mo Sold_8</th>\n",
       "      <th>_Mo Sold_9</th>\n",
       "      <th>_Mo Sold_10</th>\n",
       "      <th>_Mo Sold_11</th>\n",
       "      <th>_Mo Sold_12</th>\n",
       "    </tr>\n",
       "  </thead>\n",
       "  <tbody>\n",
       "    <tr>\n",
       "      <th>0</th>\n",
       "      <td>50</td>\n",
       "      <td>66.0</td>\n",
       "      <td>11275</td>\n",
       "      <td>6</td>\n",
       "      <td>7</td>\n",
       "      <td>1932</td>\n",
       "      <td>1950</td>\n",
       "      <td>1</td>\n",
       "      <td>480.0</td>\n",
       "      <td>3</td>\n",
       "      <td>...</td>\n",
       "      <td>1</td>\n",
       "      <td>0</td>\n",
       "      <td>0</td>\n",
       "      <td>0</td>\n",
       "      <td>0</td>\n",
       "      <td>0</td>\n",
       "      <td>0</td>\n",
       "      <td>0</td>\n",
       "      <td>0</td>\n",
       "      <td>0</td>\n",
       "    </tr>\n",
       "    <tr>\n",
       "      <th>1</th>\n",
       "      <td>20</td>\n",
       "      <td>65.0</td>\n",
       "      <td>9757</td>\n",
       "      <td>5</td>\n",
       "      <td>7</td>\n",
       "      <td>1994</td>\n",
       "      <td>1994</td>\n",
       "      <td>2</td>\n",
       "      <td>0.0</td>\n",
       "      <td>3</td>\n",
       "      <td>...</td>\n",
       "      <td>0</td>\n",
       "      <td>0</td>\n",
       "      <td>0</td>\n",
       "      <td>0</td>\n",
       "      <td>0</td>\n",
       "      <td>0</td>\n",
       "      <td>0</td>\n",
       "      <td>1</td>\n",
       "      <td>0</td>\n",
       "      <td>0</td>\n",
       "    </tr>\n",
       "    <tr>\n",
       "      <th>2</th>\n",
       "      <td>60</td>\n",
       "      <td>86.0</td>\n",
       "      <td>11065</td>\n",
       "      <td>8</td>\n",
       "      <td>5</td>\n",
       "      <td>2006</td>\n",
       "      <td>2006</td>\n",
       "      <td>3</td>\n",
       "      <td>788.0</td>\n",
       "      <td>4</td>\n",
       "      <td>...</td>\n",
       "      <td>0</td>\n",
       "      <td>0</td>\n",
       "      <td>0</td>\n",
       "      <td>0</td>\n",
       "      <td>0</td>\n",
       "      <td>0</td>\n",
       "      <td>0</td>\n",
       "      <td>1</td>\n",
       "      <td>0</td>\n",
       "      <td>0</td>\n",
       "    </tr>\n",
       "    <tr>\n",
       "      <th>3</th>\n",
       "      <td>20</td>\n",
       "      <td>70.0</td>\n",
       "      <td>7000</td>\n",
       "      <td>5</td>\n",
       "      <td>7</td>\n",
       "      <td>1960</td>\n",
       "      <td>2002</td>\n",
       "      <td>1</td>\n",
       "      <td>45.0</td>\n",
       "      <td>3</td>\n",
       "      <td>...</td>\n",
       "      <td>0</td>\n",
       "      <td>1</td>\n",
       "      <td>0</td>\n",
       "      <td>0</td>\n",
       "      <td>0</td>\n",
       "      <td>0</td>\n",
       "      <td>0</td>\n",
       "      <td>0</td>\n",
       "      <td>0</td>\n",
       "      <td>0</td>\n",
       "    </tr>\n",
       "    <tr>\n",
       "      <th>4</th>\n",
       "      <td>50</td>\n",
       "      <td>66.0</td>\n",
       "      <td>8712</td>\n",
       "      <td>4</td>\n",
       "      <td>7</td>\n",
       "      <td>1900</td>\n",
       "      <td>1950</td>\n",
       "      <td>2</td>\n",
       "      <td>0.0</td>\n",
       "      <td>3</td>\n",
       "      <td>...</td>\n",
       "      <td>0</td>\n",
       "      <td>0</td>\n",
       "      <td>0</td>\n",
       "      <td>0</td>\n",
       "      <td>0</td>\n",
       "      <td>0</td>\n",
       "      <td>0</td>\n",
       "      <td>0</td>\n",
       "      <td>0</td>\n",
       "      <td>0</td>\n",
       "    </tr>\n",
       "    <tr>\n",
       "      <th>5</th>\n",
       "      <td>60</td>\n",
       "      <td>65.0</td>\n",
       "      <td>8453</td>\n",
       "      <td>6</td>\n",
       "      <td>5</td>\n",
       "      <td>1995</td>\n",
       "      <td>1995</td>\n",
       "      <td>1</td>\n",
       "      <td>38.0</td>\n",
       "      <td>4</td>\n",
       "      <td>...</td>\n",
       "      <td>0</td>\n",
       "      <td>1</td>\n",
       "      <td>0</td>\n",
       "      <td>0</td>\n",
       "      <td>0</td>\n",
       "      <td>0</td>\n",
       "      <td>0</td>\n",
       "      <td>0</td>\n",
       "      <td>0</td>\n",
       "      <td>0</td>\n",
       "    </tr>\n",
       "    <tr>\n",
       "      <th>6</th>\n",
       "      <td>30</td>\n",
       "      <td>72.0</td>\n",
       "      <td>9392</td>\n",
       "      <td>3</td>\n",
       "      <td>3</td>\n",
       "      <td>1900</td>\n",
       "      <td>1950</td>\n",
       "      <td>2</td>\n",
       "      <td>0.0</td>\n",
       "      <td>3</td>\n",
       "      <td>...</td>\n",
       "      <td>0</td>\n",
       "      <td>0</td>\n",
       "      <td>0</td>\n",
       "      <td>0</td>\n",
       "      <td>0</td>\n",
       "      <td>0</td>\n",
       "      <td>1</td>\n",
       "      <td>0</td>\n",
       "      <td>0</td>\n",
       "      <td>0</td>\n",
       "    </tr>\n",
       "    <tr>\n",
       "      <th>7</th>\n",
       "      <td>20</td>\n",
       "      <td>74.0</td>\n",
       "      <td>10530</td>\n",
       "      <td>6</td>\n",
       "      <td>5</td>\n",
       "      <td>1971</td>\n",
       "      <td>1971</td>\n",
       "      <td>2</td>\n",
       "      <td>0.0</td>\n",
       "      <td>3</td>\n",
       "      <td>...</td>\n",
       "      <td>1</td>\n",
       "      <td>0</td>\n",
       "      <td>0</td>\n",
       "      <td>0</td>\n",
       "      <td>0</td>\n",
       "      <td>0</td>\n",
       "      <td>0</td>\n",
       "      <td>0</td>\n",
       "      <td>0</td>\n",
       "      <td>0</td>\n",
       "    </tr>\n",
       "    <tr>\n",
       "      <th>8</th>\n",
       "      <td>20</td>\n",
       "      <td>134.0</td>\n",
       "      <td>17755</td>\n",
       "      <td>5</td>\n",
       "      <td>4</td>\n",
       "      <td>1959</td>\n",
       "      <td>1959</td>\n",
       "      <td>1</td>\n",
       "      <td>132.0</td>\n",
       "      <td>3</td>\n",
       "      <td>...</td>\n",
       "      <td>0</td>\n",
       "      <td>0</td>\n",
       "      <td>0</td>\n",
       "      <td>0</td>\n",
       "      <td>0</td>\n",
       "      <td>0</td>\n",
       "      <td>0</td>\n",
       "      <td>0</td>\n",
       "      <td>1</td>\n",
       "      <td>0</td>\n",
       "    </tr>\n",
       "    <tr>\n",
       "      <th>9</th>\n",
       "      <td>80</td>\n",
       "      <td>62.0</td>\n",
       "      <td>7692</td>\n",
       "      <td>4</td>\n",
       "      <td>6</td>\n",
       "      <td>1954</td>\n",
       "      <td>1954</td>\n",
       "      <td>2</td>\n",
       "      <td>0.0</td>\n",
       "      <td>3</td>\n",
       "      <td>...</td>\n",
       "      <td>0</td>\n",
       "      <td>0</td>\n",
       "      <td>0</td>\n",
       "      <td>0</td>\n",
       "      <td>0</td>\n",
       "      <td>0</td>\n",
       "      <td>0</td>\n",
       "      <td>0</td>\n",
       "      <td>1</td>\n",
       "      <td>0</td>\n",
       "    </tr>\n",
       "    <tr>\n",
       "      <th>10</th>\n",
       "      <td>20</td>\n",
       "      <td>82.5</td>\n",
       "      <td>6718</td>\n",
       "      <td>8</td>\n",
       "      <td>5</td>\n",
       "      <td>2001</td>\n",
       "      <td>2001</td>\n",
       "      <td>1</td>\n",
       "      <td>86.0</td>\n",
       "      <td>4</td>\n",
       "      <td>...</td>\n",
       "      <td>0</td>\n",
       "      <td>0</td>\n",
       "      <td>0</td>\n",
       "      <td>0</td>\n",
       "      <td>0</td>\n",
       "      <td>0</td>\n",
       "      <td>0</td>\n",
       "      <td>0</td>\n",
       "      <td>0</td>\n",
       "      <td>0</td>\n",
       "    </tr>\n",
       "    <tr>\n",
       "      <th>11</th>\n",
       "      <td>20</td>\n",
       "      <td>62.0</td>\n",
       "      <td>7440</td>\n",
       "      <td>5</td>\n",
       "      <td>6</td>\n",
       "      <td>1954</td>\n",
       "      <td>1954</td>\n",
       "      <td>2</td>\n",
       "      <td>0.0</td>\n",
       "      <td>3</td>\n",
       "      <td>...</td>\n",
       "      <td>0</td>\n",
       "      <td>0</td>\n",
       "      <td>0</td>\n",
       "      <td>0</td>\n",
       "      <td>0</td>\n",
       "      <td>0</td>\n",
       "      <td>1</td>\n",
       "      <td>0</td>\n",
       "      <td>0</td>\n",
       "      <td>0</td>\n",
       "    </tr>\n",
       "    <tr>\n",
       "      <th>12</th>\n",
       "      <td>20</td>\n",
       "      <td>80.0</td>\n",
       "      <td>10389</td>\n",
       "      <td>8</td>\n",
       "      <td>5</td>\n",
       "      <td>2003</td>\n",
       "      <td>2003</td>\n",
       "      <td>1</td>\n",
       "      <td>320.0</td>\n",
       "      <td>4</td>\n",
       "      <td>...</td>\n",
       "      <td>0</td>\n",
       "      <td>0</td>\n",
       "      <td>1</td>\n",
       "      <td>0</td>\n",
       "      <td>0</td>\n",
       "      <td>0</td>\n",
       "      <td>0</td>\n",
       "      <td>0</td>\n",
       "      <td>0</td>\n",
       "      <td>0</td>\n",
       "    </tr>\n",
       "    <tr>\n",
       "      <th>13</th>\n",
       "      <td>50</td>\n",
       "      <td>84.0</td>\n",
       "      <td>10164</td>\n",
       "      <td>5</td>\n",
       "      <td>5</td>\n",
       "      <td>1939</td>\n",
       "      <td>1950</td>\n",
       "      <td>2</td>\n",
       "      <td>0.0</td>\n",
       "      <td>3</td>\n",
       "      <td>...</td>\n",
       "      <td>0</td>\n",
       "      <td>0</td>\n",
       "      <td>0</td>\n",
       "      <td>0</td>\n",
       "      <td>1</td>\n",
       "      <td>0</td>\n",
       "      <td>0</td>\n",
       "      <td>0</td>\n",
       "      <td>0</td>\n",
       "      <td>0</td>\n",
       "    </tr>\n",
       "    <tr>\n",
       "      <th>14</th>\n",
       "      <td>60</td>\n",
       "      <td>61.0</td>\n",
       "      <td>7500</td>\n",
       "      <td>7</td>\n",
       "      <td>5</td>\n",
       "      <td>2000</td>\n",
       "      <td>2000</td>\n",
       "      <td>2</td>\n",
       "      <td>0.0</td>\n",
       "      <td>4</td>\n",
       "      <td>...</td>\n",
       "      <td>0</td>\n",
       "      <td>0</td>\n",
       "      <td>0</td>\n",
       "      <td>0</td>\n",
       "      <td>0</td>\n",
       "      <td>0</td>\n",
       "      <td>0</td>\n",
       "      <td>0</td>\n",
       "      <td>0</td>\n",
       "      <td>0</td>\n",
       "    </tr>\n",
       "    <tr>\n",
       "      <th>15</th>\n",
       "      <td>20</td>\n",
       "      <td>65.0</td>\n",
       "      <td>6500</td>\n",
       "      <td>6</td>\n",
       "      <td>6</td>\n",
       "      <td>1976</td>\n",
       "      <td>1976</td>\n",
       "      <td>1</td>\n",
       "      <td>84.0</td>\n",
       "      <td>3</td>\n",
       "      <td>...</td>\n",
       "      <td>0</td>\n",
       "      <td>0</td>\n",
       "      <td>1</td>\n",
       "      <td>0</td>\n",
       "      <td>0</td>\n",
       "      <td>0</td>\n",
       "      <td>0</td>\n",
       "      <td>0</td>\n",
       "      <td>0</td>\n",
       "      <td>0</td>\n",
       "    </tr>\n",
       "    <tr>\n",
       "      <th>16</th>\n",
       "      <td>160</td>\n",
       "      <td>30.0</td>\n",
       "      <td>3000</td>\n",
       "      <td>6</td>\n",
       "      <td>5</td>\n",
       "      <td>2009</td>\n",
       "      <td>2009</td>\n",
       "      <td>3</td>\n",
       "      <td>76.0</td>\n",
       "      <td>4</td>\n",
       "      <td>...</td>\n",
       "      <td>0</td>\n",
       "      <td>0</td>\n",
       "      <td>0</td>\n",
       "      <td>1</td>\n",
       "      <td>0</td>\n",
       "      <td>0</td>\n",
       "      <td>0</td>\n",
       "      <td>0</td>\n",
       "      <td>0</td>\n",
       "      <td>0</td>\n",
       "    </tr>\n",
       "    <tr>\n",
       "      <th>17</th>\n",
       "      <td>20</td>\n",
       "      <td>65.0</td>\n",
       "      <td>8125</td>\n",
       "      <td>5</td>\n",
       "      <td>7</td>\n",
       "      <td>1959</td>\n",
       "      <td>1959</td>\n",
       "      <td>2</td>\n",
       "      <td>0.0</td>\n",
       "      <td>3</td>\n",
       "      <td>...</td>\n",
       "      <td>0</td>\n",
       "      <td>0</td>\n",
       "      <td>0</td>\n",
       "      <td>0</td>\n",
       "      <td>0</td>\n",
       "      <td>0</td>\n",
       "      <td>1</td>\n",
       "      <td>0</td>\n",
       "      <td>0</td>\n",
       "      <td>0</td>\n",
       "    </tr>\n",
       "    <tr>\n",
       "      <th>18</th>\n",
       "      <td>60</td>\n",
       "      <td>60.0</td>\n",
       "      <td>8965</td>\n",
       "      <td>7</td>\n",
       "      <td>5</td>\n",
       "      <td>2003</td>\n",
       "      <td>2003</td>\n",
       "      <td>2</td>\n",
       "      <td>0.0</td>\n",
       "      <td>4</td>\n",
       "      <td>...</td>\n",
       "      <td>0</td>\n",
       "      <td>0</td>\n",
       "      <td>0</td>\n",
       "      <td>1</td>\n",
       "      <td>0</td>\n",
       "      <td>0</td>\n",
       "      <td>0</td>\n",
       "      <td>0</td>\n",
       "      <td>0</td>\n",
       "      <td>0</td>\n",
       "    </tr>\n",
       "    <tr>\n",
       "      <th>19</th>\n",
       "      <td>90</td>\n",
       "      <td>64.0</td>\n",
       "      <td>7018</td>\n",
       "      <td>5</td>\n",
       "      <td>5</td>\n",
       "      <td>1979</td>\n",
       "      <td>1979</td>\n",
       "      <td>2</td>\n",
       "      <td>0.0</td>\n",
       "      <td>3</td>\n",
       "      <td>...</td>\n",
       "      <td>0</td>\n",
       "      <td>0</td>\n",
       "      <td>0</td>\n",
       "      <td>1</td>\n",
       "      <td>0</td>\n",
       "      <td>0</td>\n",
       "      <td>0</td>\n",
       "      <td>0</td>\n",
       "      <td>0</td>\n",
       "      <td>0</td>\n",
       "    </tr>\n",
       "    <tr>\n",
       "      <th>20</th>\n",
       "      <td>120</td>\n",
       "      <td>61.0</td>\n",
       "      <td>4217</td>\n",
       "      <td>6</td>\n",
       "      <td>5</td>\n",
       "      <td>2008</td>\n",
       "      <td>2008</td>\n",
       "      <td>3</td>\n",
       "      <td>252.0</td>\n",
       "      <td>4</td>\n",
       "      <td>...</td>\n",
       "      <td>1</td>\n",
       "      <td>0</td>\n",
       "      <td>0</td>\n",
       "      <td>0</td>\n",
       "      <td>0</td>\n",
       "      <td>0</td>\n",
       "      <td>0</td>\n",
       "      <td>0</td>\n",
       "      <td>0</td>\n",
       "      <td>0</td>\n",
       "    </tr>\n",
       "    <tr>\n",
       "      <th>21</th>\n",
       "      <td>60</td>\n",
       "      <td>92.0</td>\n",
       "      <td>10120</td>\n",
       "      <td>8</td>\n",
       "      <td>5</td>\n",
       "      <td>1994</td>\n",
       "      <td>1994</td>\n",
       "      <td>1</td>\n",
       "      <td>391.0</td>\n",
       "      <td>4</td>\n",
       "      <td>...</td>\n",
       "      <td>0</td>\n",
       "      <td>0</td>\n",
       "      <td>0</td>\n",
       "      <td>0</td>\n",
       "      <td>0</td>\n",
       "      <td>0</td>\n",
       "      <td>0</td>\n",
       "      <td>0</td>\n",
       "      <td>0</td>\n",
       "      <td>1</td>\n",
       "    </tr>\n",
       "    <tr>\n",
       "      <th>22</th>\n",
       "      <td>20</td>\n",
       "      <td>80.0</td>\n",
       "      <td>10400</td>\n",
       "      <td>7</td>\n",
       "      <td>5</td>\n",
       "      <td>1988</td>\n",
       "      <td>1988</td>\n",
       "      <td>1</td>\n",
       "      <td>102.0</td>\n",
       "      <td>3</td>\n",
       "      <td>...</td>\n",
       "      <td>0</td>\n",
       "      <td>0</td>\n",
       "      <td>0</td>\n",
       "      <td>1</td>\n",
       "      <td>0</td>\n",
       "      <td>0</td>\n",
       "      <td>0</td>\n",
       "      <td>0</td>\n",
       "      <td>0</td>\n",
       "      <td>0</td>\n",
       "    </tr>\n",
       "    <tr>\n",
       "      <th>23</th>\n",
       "      <td>90</td>\n",
       "      <td>60.0</td>\n",
       "      <td>8400</td>\n",
       "      <td>5</td>\n",
       "      <td>5</td>\n",
       "      <td>1977</td>\n",
       "      <td>1977</td>\n",
       "      <td>1</td>\n",
       "      <td>320.0</td>\n",
       "      <td>3</td>\n",
       "      <td>...</td>\n",
       "      <td>0</td>\n",
       "      <td>0</td>\n",
       "      <td>0</td>\n",
       "      <td>0</td>\n",
       "      <td>0</td>\n",
       "      <td>0</td>\n",
       "      <td>0</td>\n",
       "      <td>1</td>\n",
       "      <td>0</td>\n",
       "      <td>0</td>\n",
       "    </tr>\n",
       "    <tr>\n",
       "      <th>24</th>\n",
       "      <td>60</td>\n",
       "      <td>74.0</td>\n",
       "      <td>8581</td>\n",
       "      <td>7</td>\n",
       "      <td>5</td>\n",
       "      <td>2006</td>\n",
       "      <td>2006</td>\n",
       "      <td>2</td>\n",
       "      <td>0.0</td>\n",
       "      <td>4</td>\n",
       "      <td>...</td>\n",
       "      <td>0</td>\n",
       "      <td>0</td>\n",
       "      <td>0</td>\n",
       "      <td>0</td>\n",
       "      <td>0</td>\n",
       "      <td>1</td>\n",
       "      <td>0</td>\n",
       "      <td>0</td>\n",
       "      <td>0</td>\n",
       "      <td>0</td>\n",
       "    </tr>\n",
       "    <tr>\n",
       "      <th>25</th>\n",
       "      <td>20</td>\n",
       "      <td>80.0</td>\n",
       "      <td>10400</td>\n",
       "      <td>4</td>\n",
       "      <td>5</td>\n",
       "      <td>1956</td>\n",
       "      <td>1956</td>\n",
       "      <td>2</td>\n",
       "      <td>0.0</td>\n",
       "      <td>3</td>\n",
       "      <td>...</td>\n",
       "      <td>0</td>\n",
       "      <td>0</td>\n",
       "      <td>0</td>\n",
       "      <td>0</td>\n",
       "      <td>0</td>\n",
       "      <td>0</td>\n",
       "      <td>0</td>\n",
       "      <td>0</td>\n",
       "      <td>1</td>\n",
       "      <td>0</td>\n",
       "    </tr>\n",
       "    <tr>\n",
       "      <th>26</th>\n",
       "      <td>60</td>\n",
       "      <td>60.0</td>\n",
       "      <td>12224</td>\n",
       "      <td>6</td>\n",
       "      <td>5</td>\n",
       "      <td>2000</td>\n",
       "      <td>2000</td>\n",
       "      <td>1</td>\n",
       "      <td>40.0</td>\n",
       "      <td>4</td>\n",
       "      <td>...</td>\n",
       "      <td>0</td>\n",
       "      <td>0</td>\n",
       "      <td>0</td>\n",
       "      <td>0</td>\n",
       "      <td>1</td>\n",
       "      <td>0</td>\n",
       "      <td>0</td>\n",
       "      <td>0</td>\n",
       "      <td>0</td>\n",
       "      <td>0</td>\n",
       "    </tr>\n",
       "    <tr>\n",
       "      <th>27</th>\n",
       "      <td>20</td>\n",
       "      <td>110.0</td>\n",
       "      <td>14226</td>\n",
       "      <td>8</td>\n",
       "      <td>5</td>\n",
       "      <td>2006</td>\n",
       "      <td>2006</td>\n",
       "      <td>1</td>\n",
       "      <td>375.0</td>\n",
       "      <td>4</td>\n",
       "      <td>...</td>\n",
       "      <td>0</td>\n",
       "      <td>0</td>\n",
       "      <td>0</td>\n",
       "      <td>0</td>\n",
       "      <td>1</td>\n",
       "      <td>0</td>\n",
       "      <td>0</td>\n",
       "      <td>0</td>\n",
       "      <td>0</td>\n",
       "      <td>0</td>\n",
       "    </tr>\n",
       "    <tr>\n",
       "      <th>28</th>\n",
       "      <td>20</td>\n",
       "      <td>57.0</td>\n",
       "      <td>12853</td>\n",
       "      <td>8</td>\n",
       "      <td>5</td>\n",
       "      <td>2010</td>\n",
       "      <td>2010</td>\n",
       "      <td>2</td>\n",
       "      <td>0.0</td>\n",
       "      <td>4</td>\n",
       "      <td>...</td>\n",
       "      <td>0</td>\n",
       "      <td>1</td>\n",
       "      <td>0</td>\n",
       "      <td>0</td>\n",
       "      <td>0</td>\n",
       "      <td>0</td>\n",
       "      <td>0</td>\n",
       "      <td>0</td>\n",
       "      <td>0</td>\n",
       "      <td>0</td>\n",
       "    </tr>\n",
       "    <tr>\n",
       "      <th>29</th>\n",
       "      <td>60</td>\n",
       "      <td>72.0</td>\n",
       "      <td>16387</td>\n",
       "      <td>9</td>\n",
       "      <td>5</td>\n",
       "      <td>2006</td>\n",
       "      <td>2006</td>\n",
       "      <td>3</td>\n",
       "      <td>215.0</td>\n",
       "      <td>4</td>\n",
       "      <td>...</td>\n",
       "      <td>0</td>\n",
       "      <td>0</td>\n",
       "      <td>0</td>\n",
       "      <td>0</td>\n",
       "      <td>0</td>\n",
       "      <td>1</td>\n",
       "      <td>0</td>\n",
       "      <td>0</td>\n",
       "      <td>0</td>\n",
       "      <td>0</td>\n",
       "    </tr>\n",
       "    <tr>\n",
       "      <th>...</th>\n",
       "      <td>...</td>\n",
       "      <td>...</td>\n",
       "      <td>...</td>\n",
       "      <td>...</td>\n",
       "      <td>...</td>\n",
       "      <td>...</td>\n",
       "      <td>...</td>\n",
       "      <td>...</td>\n",
       "      <td>...</td>\n",
       "      <td>...</td>\n",
       "      <td>...</td>\n",
       "      <td>...</td>\n",
       "      <td>...</td>\n",
       "      <td>...</td>\n",
       "      <td>...</td>\n",
       "      <td>...</td>\n",
       "      <td>...</td>\n",
       "      <td>...</td>\n",
       "      <td>...</td>\n",
       "      <td>...</td>\n",
       "      <td>...</td>\n",
       "    </tr>\n",
       "    <tr>\n",
       "      <th>469</th>\n",
       "      <td>60</td>\n",
       "      <td>70.0</td>\n",
       "      <td>9247</td>\n",
       "      <td>6</td>\n",
       "      <td>6</td>\n",
       "      <td>1962</td>\n",
       "      <td>1962</td>\n",
       "      <td>1</td>\n",
       "      <td>318.0</td>\n",
       "      <td>3</td>\n",
       "      <td>...</td>\n",
       "      <td>1</td>\n",
       "      <td>0</td>\n",
       "      <td>0</td>\n",
       "      <td>0</td>\n",
       "      <td>0</td>\n",
       "      <td>0</td>\n",
       "      <td>0</td>\n",
       "      <td>0</td>\n",
       "      <td>0</td>\n",
       "      <td>0</td>\n",
       "    </tr>\n",
       "    <tr>\n",
       "      <th>470</th>\n",
       "      <td>120</td>\n",
       "      <td>32.0</td>\n",
       "      <td>4500</td>\n",
       "      <td>6</td>\n",
       "      <td>5</td>\n",
       "      <td>1998</td>\n",
       "      <td>1998</td>\n",
       "      <td>1</td>\n",
       "      <td>443.0</td>\n",
       "      <td>3</td>\n",
       "      <td>...</td>\n",
       "      <td>1</td>\n",
       "      <td>0</td>\n",
       "      <td>0</td>\n",
       "      <td>0</td>\n",
       "      <td>0</td>\n",
       "      <td>0</td>\n",
       "      <td>0</td>\n",
       "      <td>0</td>\n",
       "      <td>0</td>\n",
       "      <td>0</td>\n",
       "    </tr>\n",
       "    <tr>\n",
       "      <th>471</th>\n",
       "      <td>160</td>\n",
       "      <td>21.0</td>\n",
       "      <td>1974</td>\n",
       "      <td>4</td>\n",
       "      <td>5</td>\n",
       "      <td>1973</td>\n",
       "      <td>1973</td>\n",
       "      <td>2</td>\n",
       "      <td>0.0</td>\n",
       "      <td>3</td>\n",
       "      <td>...</td>\n",
       "      <td>0</td>\n",
       "      <td>0</td>\n",
       "      <td>1</td>\n",
       "      <td>0</td>\n",
       "      <td>0</td>\n",
       "      <td>0</td>\n",
       "      <td>0</td>\n",
       "      <td>0</td>\n",
       "      <td>0</td>\n",
       "      <td>0</td>\n",
       "    </tr>\n",
       "    <tr>\n",
       "      <th>472</th>\n",
       "      <td>20</td>\n",
       "      <td>91.0</td>\n",
       "      <td>11825</td>\n",
       "      <td>8</td>\n",
       "      <td>5</td>\n",
       "      <td>2006</td>\n",
       "      <td>2007</td>\n",
       "      <td>3</td>\n",
       "      <td>302.0</td>\n",
       "      <td>4</td>\n",
       "      <td>...</td>\n",
       "      <td>0</td>\n",
       "      <td>0</td>\n",
       "      <td>0</td>\n",
       "      <td>1</td>\n",
       "      <td>0</td>\n",
       "      <td>0</td>\n",
       "      <td>0</td>\n",
       "      <td>0</td>\n",
       "      <td>0</td>\n",
       "      <td>0</td>\n",
       "    </tr>\n",
       "    <tr>\n",
       "      <th>474</th>\n",
       "      <td>20</td>\n",
       "      <td>75.0</td>\n",
       "      <td>8100</td>\n",
       "      <td>5</td>\n",
       "      <td>8</td>\n",
       "      <td>1961</td>\n",
       "      <td>2007</td>\n",
       "      <td>2</td>\n",
       "      <td>0.0</td>\n",
       "      <td>3</td>\n",
       "      <td>...</td>\n",
       "      <td>0</td>\n",
       "      <td>0</td>\n",
       "      <td>0</td>\n",
       "      <td>0</td>\n",
       "      <td>1</td>\n",
       "      <td>0</td>\n",
       "      <td>0</td>\n",
       "      <td>0</td>\n",
       "      <td>0</td>\n",
       "      <td>0</td>\n",
       "    </tr>\n",
       "    <tr>\n",
       "      <th>475</th>\n",
       "      <td>20</td>\n",
       "      <td>63.0</td>\n",
       "      <td>13072</td>\n",
       "      <td>6</td>\n",
       "      <td>5</td>\n",
       "      <td>2005</td>\n",
       "      <td>2005</td>\n",
       "      <td>2</td>\n",
       "      <td>0.0</td>\n",
       "      <td>4</td>\n",
       "      <td>...</td>\n",
       "      <td>1</td>\n",
       "      <td>0</td>\n",
       "      <td>0</td>\n",
       "      <td>0</td>\n",
       "      <td>0</td>\n",
       "      <td>0</td>\n",
       "      <td>0</td>\n",
       "      <td>0</td>\n",
       "      <td>0</td>\n",
       "      <td>0</td>\n",
       "    </tr>\n",
       "    <tr>\n",
       "      <th>476</th>\n",
       "      <td>60</td>\n",
       "      <td>118.0</td>\n",
       "      <td>35760</td>\n",
       "      <td>10</td>\n",
       "      <td>5</td>\n",
       "      <td>1995</td>\n",
       "      <td>1996</td>\n",
       "      <td>1</td>\n",
       "      <td>1378.0</td>\n",
       "      <td>4</td>\n",
       "      <td>...</td>\n",
       "      <td>0</td>\n",
       "      <td>0</td>\n",
       "      <td>0</td>\n",
       "      <td>0</td>\n",
       "      <td>1</td>\n",
       "      <td>0</td>\n",
       "      <td>0</td>\n",
       "      <td>0</td>\n",
       "      <td>0</td>\n",
       "      <td>0</td>\n",
       "    </tr>\n",
       "    <tr>\n",
       "      <th>477</th>\n",
       "      <td>60</td>\n",
       "      <td>80.0</td>\n",
       "      <td>14000</td>\n",
       "      <td>7</td>\n",
       "      <td>5</td>\n",
       "      <td>1996</td>\n",
       "      <td>1997</td>\n",
       "      <td>2</td>\n",
       "      <td>0.0</td>\n",
       "      <td>4</td>\n",
       "      <td>...</td>\n",
       "      <td>0</td>\n",
       "      <td>1</td>\n",
       "      <td>0</td>\n",
       "      <td>0</td>\n",
       "      <td>0</td>\n",
       "      <td>0</td>\n",
       "      <td>0</td>\n",
       "      <td>0</td>\n",
       "      <td>0</td>\n",
       "      <td>0</td>\n",
       "    </tr>\n",
       "    <tr>\n",
       "      <th>478</th>\n",
       "      <td>120</td>\n",
       "      <td>70.0</td>\n",
       "      <td>4435</td>\n",
       "      <td>6</td>\n",
       "      <td>5</td>\n",
       "      <td>2003</td>\n",
       "      <td>2003</td>\n",
       "      <td>1</td>\n",
       "      <td>170.0</td>\n",
       "      <td>4</td>\n",
       "      <td>...</td>\n",
       "      <td>0</td>\n",
       "      <td>0</td>\n",
       "      <td>1</td>\n",
       "      <td>0</td>\n",
       "      <td>0</td>\n",
       "      <td>0</td>\n",
       "      <td>0</td>\n",
       "      <td>0</td>\n",
       "      <td>0</td>\n",
       "      <td>0</td>\n",
       "    </tr>\n",
       "    <tr>\n",
       "      <th>479</th>\n",
       "      <td>120</td>\n",
       "      <td>48.0</td>\n",
       "      <td>5911</td>\n",
       "      <td>9</td>\n",
       "      <td>5</td>\n",
       "      <td>2005</td>\n",
       "      <td>2005</td>\n",
       "      <td>1</td>\n",
       "      <td>278.0</td>\n",
       "      <td>5</td>\n",
       "      <td>...</td>\n",
       "      <td>1</td>\n",
       "      <td>0</td>\n",
       "      <td>0</td>\n",
       "      <td>0</td>\n",
       "      <td>0</td>\n",
       "      <td>0</td>\n",
       "      <td>0</td>\n",
       "      <td>0</td>\n",
       "      <td>0</td>\n",
       "      <td>0</td>\n",
       "    </tr>\n",
       "    <tr>\n",
       "      <th>480</th>\n",
       "      <td>50</td>\n",
       "      <td>60.0</td>\n",
       "      <td>8064</td>\n",
       "      <td>6</td>\n",
       "      <td>7</td>\n",
       "      <td>1948</td>\n",
       "      <td>1994</td>\n",
       "      <td>2</td>\n",
       "      <td>0.0</td>\n",
       "      <td>3</td>\n",
       "      <td>...</td>\n",
       "      <td>0</td>\n",
       "      <td>0</td>\n",
       "      <td>0</td>\n",
       "      <td>0</td>\n",
       "      <td>0</td>\n",
       "      <td>1</td>\n",
       "      <td>0</td>\n",
       "      <td>0</td>\n",
       "      <td>0</td>\n",
       "      <td>0</td>\n",
       "    </tr>\n",
       "    <tr>\n",
       "      <th>481</th>\n",
       "      <td>60</td>\n",
       "      <td>79.0</td>\n",
       "      <td>11646</td>\n",
       "      <td>6</td>\n",
       "      <td>5</td>\n",
       "      <td>2005</td>\n",
       "      <td>2006</td>\n",
       "      <td>2</td>\n",
       "      <td>0.0</td>\n",
       "      <td>4</td>\n",
       "      <td>...</td>\n",
       "      <td>0</td>\n",
       "      <td>0</td>\n",
       "      <td>0</td>\n",
       "      <td>0</td>\n",
       "      <td>1</td>\n",
       "      <td>0</td>\n",
       "      <td>0</td>\n",
       "      <td>0</td>\n",
       "      <td>0</td>\n",
       "      <td>0</td>\n",
       "    </tr>\n",
       "    <tr>\n",
       "      <th>482</th>\n",
       "      <td>30</td>\n",
       "      <td>60.0</td>\n",
       "      <td>3300</td>\n",
       "      <td>4</td>\n",
       "      <td>3</td>\n",
       "      <td>1910</td>\n",
       "      <td>1950</td>\n",
       "      <td>2</td>\n",
       "      <td>0.0</td>\n",
       "      <td>3</td>\n",
       "      <td>...</td>\n",
       "      <td>0</td>\n",
       "      <td>0</td>\n",
       "      <td>0</td>\n",
       "      <td>1</td>\n",
       "      <td>0</td>\n",
       "      <td>0</td>\n",
       "      <td>0</td>\n",
       "      <td>0</td>\n",
       "      <td>0</td>\n",
       "      <td>0</td>\n",
       "    </tr>\n",
       "    <tr>\n",
       "      <th>483</th>\n",
       "      <td>60</td>\n",
       "      <td>64.0</td>\n",
       "      <td>8633</td>\n",
       "      <td>6</td>\n",
       "      <td>5</td>\n",
       "      <td>2005</td>\n",
       "      <td>2005</td>\n",
       "      <td>2</td>\n",
       "      <td>0.0</td>\n",
       "      <td>4</td>\n",
       "      <td>...</td>\n",
       "      <td>0</td>\n",
       "      <td>0</td>\n",
       "      <td>0</td>\n",
       "      <td>0</td>\n",
       "      <td>0</td>\n",
       "      <td>0</td>\n",
       "      <td>0</td>\n",
       "      <td>0</td>\n",
       "      <td>0</td>\n",
       "      <td>0</td>\n",
       "    </tr>\n",
       "    <tr>\n",
       "      <th>484</th>\n",
       "      <td>90</td>\n",
       "      <td>75.0</td>\n",
       "      <td>8604</td>\n",
       "      <td>5</td>\n",
       "      <td>7</td>\n",
       "      <td>1978</td>\n",
       "      <td>1978</td>\n",
       "      <td>1</td>\n",
       "      <td>124.0</td>\n",
       "      <td>3</td>\n",
       "      <td>...</td>\n",
       "      <td>0</td>\n",
       "      <td>0</td>\n",
       "      <td>0</td>\n",
       "      <td>0</td>\n",
       "      <td>0</td>\n",
       "      <td>0</td>\n",
       "      <td>0</td>\n",
       "      <td>0</td>\n",
       "      <td>1</td>\n",
       "      <td>0</td>\n",
       "    </tr>\n",
       "    <tr>\n",
       "      <th>485</th>\n",
       "      <td>20</td>\n",
       "      <td>79.0</td>\n",
       "      <td>10634</td>\n",
       "      <td>5</td>\n",
       "      <td>6</td>\n",
       "      <td>1953</td>\n",
       "      <td>1953</td>\n",
       "      <td>2</td>\n",
       "      <td>0.0</td>\n",
       "      <td>3</td>\n",
       "      <td>...</td>\n",
       "      <td>0</td>\n",
       "      <td>0</td>\n",
       "      <td>0</td>\n",
       "      <td>0</td>\n",
       "      <td>0</td>\n",
       "      <td>0</td>\n",
       "      <td>0</td>\n",
       "      <td>0</td>\n",
       "      <td>1</td>\n",
       "      <td>0</td>\n",
       "    </tr>\n",
       "    <tr>\n",
       "      <th>486</th>\n",
       "      <td>20</td>\n",
       "      <td>60.0</td>\n",
       "      <td>7626</td>\n",
       "      <td>5</td>\n",
       "      <td>8</td>\n",
       "      <td>1952</td>\n",
       "      <td>2005</td>\n",
       "      <td>2</td>\n",
       "      <td>0.0</td>\n",
       "      <td>4</td>\n",
       "      <td>...</td>\n",
       "      <td>1</td>\n",
       "      <td>0</td>\n",
       "      <td>0</td>\n",
       "      <td>0</td>\n",
       "      <td>0</td>\n",
       "      <td>0</td>\n",
       "      <td>0</td>\n",
       "      <td>0</td>\n",
       "      <td>0</td>\n",
       "      <td>0</td>\n",
       "    </tr>\n",
       "    <tr>\n",
       "      <th>487</th>\n",
       "      <td>20</td>\n",
       "      <td>117.0</td>\n",
       "      <td>15262</td>\n",
       "      <td>8</td>\n",
       "      <td>5</td>\n",
       "      <td>2003</td>\n",
       "      <td>2004</td>\n",
       "      <td>1</td>\n",
       "      <td>470.0</td>\n",
       "      <td>4</td>\n",
       "      <td>...</td>\n",
       "      <td>0</td>\n",
       "      <td>0</td>\n",
       "      <td>0</td>\n",
       "      <td>0</td>\n",
       "      <td>1</td>\n",
       "      <td>0</td>\n",
       "      <td>0</td>\n",
       "      <td>0</td>\n",
       "      <td>0</td>\n",
       "      <td>0</td>\n",
       "    </tr>\n",
       "    <tr>\n",
       "      <th>488</th>\n",
       "      <td>20</td>\n",
       "      <td>66.0</td>\n",
       "      <td>10235</td>\n",
       "      <td>8</td>\n",
       "      <td>5</td>\n",
       "      <td>2007</td>\n",
       "      <td>2007</td>\n",
       "      <td>3</td>\n",
       "      <td>306.0</td>\n",
       "      <td>4</td>\n",
       "      <td>...</td>\n",
       "      <td>0</td>\n",
       "      <td>0</td>\n",
       "      <td>0</td>\n",
       "      <td>0</td>\n",
       "      <td>0</td>\n",
       "      <td>0</td>\n",
       "      <td>1</td>\n",
       "      <td>0</td>\n",
       "      <td>0</td>\n",
       "      <td>0</td>\n",
       "    </tr>\n",
       "    <tr>\n",
       "      <th>489</th>\n",
       "      <td>60</td>\n",
       "      <td>95.0</td>\n",
       "      <td>12350</td>\n",
       "      <td>9</td>\n",
       "      <td>5</td>\n",
       "      <td>2009</td>\n",
       "      <td>2009</td>\n",
       "      <td>2</td>\n",
       "      <td>0.0</td>\n",
       "      <td>4</td>\n",
       "      <td>...</td>\n",
       "      <td>0</td>\n",
       "      <td>0</td>\n",
       "      <td>0</td>\n",
       "      <td>0</td>\n",
       "      <td>1</td>\n",
       "      <td>0</td>\n",
       "      <td>0</td>\n",
       "      <td>0</td>\n",
       "      <td>0</td>\n",
       "      <td>0</td>\n",
       "    </tr>\n",
       "    <tr>\n",
       "      <th>490</th>\n",
       "      <td>30</td>\n",
       "      <td>60.0</td>\n",
       "      <td>8520</td>\n",
       "      <td>5</td>\n",
       "      <td>6</td>\n",
       "      <td>1923</td>\n",
       "      <td>2006</td>\n",
       "      <td>2</td>\n",
       "      <td>0.0</td>\n",
       "      <td>4</td>\n",
       "      <td>...</td>\n",
       "      <td>0</td>\n",
       "      <td>0</td>\n",
       "      <td>0</td>\n",
       "      <td>0</td>\n",
       "      <td>1</td>\n",
       "      <td>0</td>\n",
       "      <td>0</td>\n",
       "      <td>0</td>\n",
       "      <td>0</td>\n",
       "      <td>0</td>\n",
       "    </tr>\n",
       "    <tr>\n",
       "      <th>491</th>\n",
       "      <td>120</td>\n",
       "      <td>34.0</td>\n",
       "      <td>3628</td>\n",
       "      <td>7</td>\n",
       "      <td>5</td>\n",
       "      <td>2004</td>\n",
       "      <td>2004</td>\n",
       "      <td>2</td>\n",
       "      <td>0.0</td>\n",
       "      <td>4</td>\n",
       "      <td>...</td>\n",
       "      <td>0</td>\n",
       "      <td>0</td>\n",
       "      <td>1</td>\n",
       "      <td>0</td>\n",
       "      <td>0</td>\n",
       "      <td>0</td>\n",
       "      <td>0</td>\n",
       "      <td>0</td>\n",
       "      <td>0</td>\n",
       "      <td>0</td>\n",
       "    </tr>\n",
       "    <tr>\n",
       "      <th>492</th>\n",
       "      <td>20</td>\n",
       "      <td>84.0</td>\n",
       "      <td>8658</td>\n",
       "      <td>6</td>\n",
       "      <td>5</td>\n",
       "      <td>1965</td>\n",
       "      <td>1965</td>\n",
       "      <td>1</td>\n",
       "      <td>101.0</td>\n",
       "      <td>3</td>\n",
       "      <td>...</td>\n",
       "      <td>0</td>\n",
       "      <td>0</td>\n",
       "      <td>0</td>\n",
       "      <td>0</td>\n",
       "      <td>0</td>\n",
       "      <td>0</td>\n",
       "      <td>0</td>\n",
       "      <td>0</td>\n",
       "      <td>0</td>\n",
       "      <td>1</td>\n",
       "    </tr>\n",
       "    <tr>\n",
       "      <th>493</th>\n",
       "      <td>50</td>\n",
       "      <td>60.0</td>\n",
       "      <td>7200</td>\n",
       "      <td>5</td>\n",
       "      <td>7</td>\n",
       "      <td>1937</td>\n",
       "      <td>1950</td>\n",
       "      <td>1</td>\n",
       "      <td>252.0</td>\n",
       "      <td>3</td>\n",
       "      <td>...</td>\n",
       "      <td>0</td>\n",
       "      <td>0</td>\n",
       "      <td>0</td>\n",
       "      <td>1</td>\n",
       "      <td>0</td>\n",
       "      <td>0</td>\n",
       "      <td>0</td>\n",
       "      <td>0</td>\n",
       "      <td>0</td>\n",
       "      <td>0</td>\n",
       "    </tr>\n",
       "    <tr>\n",
       "      <th>494</th>\n",
       "      <td>80</td>\n",
       "      <td>60.0</td>\n",
       "      <td>8400</td>\n",
       "      <td>7</td>\n",
       "      <td>5</td>\n",
       "      <td>1996</td>\n",
       "      <td>1997</td>\n",
       "      <td>1</td>\n",
       "      <td>32.0</td>\n",
       "      <td>3</td>\n",
       "      <td>...</td>\n",
       "      <td>0</td>\n",
       "      <td>0</td>\n",
       "      <td>0</td>\n",
       "      <td>1</td>\n",
       "      <td>0</td>\n",
       "      <td>0</td>\n",
       "      <td>0</td>\n",
       "      <td>0</td>\n",
       "      <td>0</td>\n",
       "      <td>0</td>\n",
       "    </tr>\n",
       "    <tr>\n",
       "      <th>495</th>\n",
       "      <td>50</td>\n",
       "      <td>124.0</td>\n",
       "      <td>18600</td>\n",
       "      <td>3</td>\n",
       "      <td>4</td>\n",
       "      <td>1938</td>\n",
       "      <td>1990</td>\n",
       "      <td>2</td>\n",
       "      <td>0.0</td>\n",
       "      <td>3</td>\n",
       "      <td>...</td>\n",
       "      <td>0</td>\n",
       "      <td>0</td>\n",
       "      <td>0</td>\n",
       "      <td>1</td>\n",
       "      <td>0</td>\n",
       "      <td>0</td>\n",
       "      <td>0</td>\n",
       "      <td>0</td>\n",
       "      <td>0</td>\n",
       "      <td>0</td>\n",
       "    </tr>\n",
       "    <tr>\n",
       "      <th>496</th>\n",
       "      <td>20</td>\n",
       "      <td>80.0</td>\n",
       "      <td>11250</td>\n",
       "      <td>6</td>\n",
       "      <td>6</td>\n",
       "      <td>1977</td>\n",
       "      <td>1977</td>\n",
       "      <td>2</td>\n",
       "      <td>0.0</td>\n",
       "      <td>4</td>\n",
       "      <td>...</td>\n",
       "      <td>0</td>\n",
       "      <td>0</td>\n",
       "      <td>0</td>\n",
       "      <td>1</td>\n",
       "      <td>0</td>\n",
       "      <td>0</td>\n",
       "      <td>0</td>\n",
       "      <td>0</td>\n",
       "      <td>0</td>\n",
       "      <td>0</td>\n",
       "    </tr>\n",
       "    <tr>\n",
       "      <th>497</th>\n",
       "      <td>120</td>\n",
       "      <td>28.0</td>\n",
       "      <td>7296</td>\n",
       "      <td>8</td>\n",
       "      <td>5</td>\n",
       "      <td>2004</td>\n",
       "      <td>2005</td>\n",
       "      <td>2</td>\n",
       "      <td>0.0</td>\n",
       "      <td>4</td>\n",
       "      <td>...</td>\n",
       "      <td>0</td>\n",
       "      <td>0</td>\n",
       "      <td>0</td>\n",
       "      <td>0</td>\n",
       "      <td>0</td>\n",
       "      <td>0</td>\n",
       "      <td>0</td>\n",
       "      <td>0</td>\n",
       "      <td>1</td>\n",
       "      <td>0</td>\n",
       "    </tr>\n",
       "    <tr>\n",
       "      <th>498</th>\n",
       "      <td>20</td>\n",
       "      <td>61.0</td>\n",
       "      <td>10226</td>\n",
       "      <td>8</td>\n",
       "      <td>5</td>\n",
       "      <td>2008</td>\n",
       "      <td>2008</td>\n",
       "      <td>3</td>\n",
       "      <td>270.0</td>\n",
       "      <td>4</td>\n",
       "      <td>...</td>\n",
       "      <td>0</td>\n",
       "      <td>0</td>\n",
       "      <td>0</td>\n",
       "      <td>0</td>\n",
       "      <td>0</td>\n",
       "      <td>0</td>\n",
       "      <td>0</td>\n",
       "      <td>0</td>\n",
       "      <td>0</td>\n",
       "      <td>0</td>\n",
       "    </tr>\n",
       "    <tr>\n",
       "      <th>499</th>\n",
       "      <td>80</td>\n",
       "      <td>76.0</td>\n",
       "      <td>11800</td>\n",
       "      <td>4</td>\n",
       "      <td>7</td>\n",
       "      <td>1949</td>\n",
       "      <td>2002</td>\n",
       "      <td>2</td>\n",
       "      <td>0.0</td>\n",
       "      <td>3</td>\n",
       "      <td>...</td>\n",
       "      <td>0</td>\n",
       "      <td>0</td>\n",
       "      <td>1</td>\n",
       "      <td>0</td>\n",
       "      <td>0</td>\n",
       "      <td>0</td>\n",
       "      <td>0</td>\n",
       "      <td>0</td>\n",
       "      <td>0</td>\n",
       "      <td>0</td>\n",
       "    </tr>\n",
       "  </tbody>\n",
       "</table>\n",
       "<p>493 rows × 327 columns</p>\n",
       "</div>"
      ],
      "text/plain": [
       "     MS SubClass  Lot Frontage  Lot Area  Overall Qual  Overall Cond  \\\n",
       "0             50          66.0     11275             6             7   \n",
       "1             20          65.0      9757             5             7   \n",
       "2             60          86.0     11065             8             5   \n",
       "3             20          70.0      7000             5             7   \n",
       "4             50          66.0      8712             4             7   \n",
       "5             60          65.0      8453             6             5   \n",
       "6             30          72.0      9392             3             3   \n",
       "7             20          74.0     10530             6             5   \n",
       "8             20         134.0     17755             5             4   \n",
       "9             80          62.0      7692             4             6   \n",
       "10            20          82.5      6718             8             5   \n",
       "11            20          62.0      7440             5             6   \n",
       "12            20          80.0     10389             8             5   \n",
       "13            50          84.0     10164             5             5   \n",
       "14            60          61.0      7500             7             5   \n",
       "15            20          65.0      6500             6             6   \n",
       "16           160          30.0      3000             6             5   \n",
       "17            20          65.0      8125             5             7   \n",
       "18            60          60.0      8965             7             5   \n",
       "19            90          64.0      7018             5             5   \n",
       "20           120          61.0      4217             6             5   \n",
       "21            60          92.0     10120             8             5   \n",
       "22            20          80.0     10400             7             5   \n",
       "23            90          60.0      8400             5             5   \n",
       "24            60          74.0      8581             7             5   \n",
       "25            20          80.0     10400             4             5   \n",
       "26            60          60.0     12224             6             5   \n",
       "27            20         110.0     14226             8             5   \n",
       "28            20          57.0     12853             8             5   \n",
       "29            60          72.0     16387             9             5   \n",
       "..           ...           ...       ...           ...           ...   \n",
       "469           60          70.0      9247             6             6   \n",
       "470          120          32.0      4500             6             5   \n",
       "471          160          21.0      1974             4             5   \n",
       "472           20          91.0     11825             8             5   \n",
       "474           20          75.0      8100             5             8   \n",
       "475           20          63.0     13072             6             5   \n",
       "476           60         118.0     35760            10             5   \n",
       "477           60          80.0     14000             7             5   \n",
       "478          120          70.0      4435             6             5   \n",
       "479          120          48.0      5911             9             5   \n",
       "480           50          60.0      8064             6             7   \n",
       "481           60          79.0     11646             6             5   \n",
       "482           30          60.0      3300             4             3   \n",
       "483           60          64.0      8633             6             5   \n",
       "484           90          75.0      8604             5             7   \n",
       "485           20          79.0     10634             5             6   \n",
       "486           20          60.0      7626             5             8   \n",
       "487           20         117.0     15262             8             5   \n",
       "488           20          66.0     10235             8             5   \n",
       "489           60          95.0     12350             9             5   \n",
       "490           30          60.0      8520             5             6   \n",
       "491          120          34.0      3628             7             5   \n",
       "492           20          84.0      8658             6             5   \n",
       "493           50          60.0      7200             5             7   \n",
       "494           80          60.0      8400             7             5   \n",
       "495           50         124.0     18600             3             4   \n",
       "496           20          80.0     11250             6             6   \n",
       "497          120          28.0      7296             8             5   \n",
       "498           20          61.0     10226             8             5   \n",
       "499           80          76.0     11800             4             7   \n",
       "\n",
       "     Year Built  Year Remod/Add  Mas Vnr Type  Mas Vnr Area  Exter Qual  \\\n",
       "0          1932            1950             1         480.0           3   \n",
       "1          1994            1994             2           0.0           3   \n",
       "2          2006            2006             3         788.0           4   \n",
       "3          1960            2002             1          45.0           3   \n",
       "4          1900            1950             2           0.0           3   \n",
       "5          1995            1995             1          38.0           4   \n",
       "6          1900            1950             2           0.0           3   \n",
       "7          1971            1971             2           0.0           3   \n",
       "8          1959            1959             1         132.0           3   \n",
       "9          1954            1954             2           0.0           3   \n",
       "10         2001            2001             1          86.0           4   \n",
       "11         1954            1954             2           0.0           3   \n",
       "12         2003            2003             1         320.0           4   \n",
       "13         1939            1950             2           0.0           3   \n",
       "14         2000            2000             2           0.0           4   \n",
       "15         1976            1976             1          84.0           3   \n",
       "16         2009            2009             3          76.0           4   \n",
       "17         1959            1959             2           0.0           3   \n",
       "18         2003            2003             2           0.0           4   \n",
       "19         1979            1979             2           0.0           3   \n",
       "20         2008            2008             3         252.0           4   \n",
       "21         1994            1994             1         391.0           4   \n",
       "22         1988            1988             1         102.0           3   \n",
       "23         1977            1977             1         320.0           3   \n",
       "24         2006            2006             2           0.0           4   \n",
       "25         1956            1956             2           0.0           3   \n",
       "26         2000            2000             1          40.0           4   \n",
       "27         2006            2006             1         375.0           4   \n",
       "28         2010            2010             2           0.0           4   \n",
       "29         2006            2006             3         215.0           4   \n",
       "..          ...             ...           ...           ...         ...   \n",
       "469        1962            1962             1         318.0           3   \n",
       "470        1998            1998             1         443.0           3   \n",
       "471        1973            1973             2           0.0           3   \n",
       "472        2006            2007             3         302.0           4   \n",
       "474        1961            2007             2           0.0           3   \n",
       "475        2005            2005             2           0.0           4   \n",
       "476        1995            1996             1        1378.0           4   \n",
       "477        1996            1997             2           0.0           4   \n",
       "478        2003            2003             1         170.0           4   \n",
       "479        2005            2005             1         278.0           5   \n",
       "480        1948            1994             2           0.0           3   \n",
       "481        2005            2006             2           0.0           4   \n",
       "482        1910            1950             2           0.0           3   \n",
       "483        2005            2005             2           0.0           4   \n",
       "484        1978            1978             1         124.0           3   \n",
       "485        1953            1953             2           0.0           3   \n",
       "486        1952            2005             2           0.0           4   \n",
       "487        2003            2004             1         470.0           4   \n",
       "488        2007            2007             3         306.0           4   \n",
       "489        2009            2009             2           0.0           4   \n",
       "490        1923            2006             2           0.0           4   \n",
       "491        2004            2004             2           0.0           4   \n",
       "492        1965            1965             1         101.0           3   \n",
       "493        1937            1950             1         252.0           3   \n",
       "494        1996            1997             1          32.0           3   \n",
       "495        1938            1990             2           0.0           3   \n",
       "496        1977            1977             2           0.0           4   \n",
       "497        2004            2005             2           0.0           4   \n",
       "498        2008            2008             3         270.0           4   \n",
       "499        1949            2002             2           0.0           3   \n",
       "\n",
       "        ...       _Mo Sold_3  _Mo Sold_4  _Mo Sold_5  _Mo Sold_6  _Mo Sold_7  \\\n",
       "0       ...                1           0           0           0           0   \n",
       "1       ...                0           0           0           0           0   \n",
       "2       ...                0           0           0           0           0   \n",
       "3       ...                0           1           0           0           0   \n",
       "4       ...                0           0           0           0           0   \n",
       "5       ...                0           1           0           0           0   \n",
       "6       ...                0           0           0           0           0   \n",
       "7       ...                1           0           0           0           0   \n",
       "8       ...                0           0           0           0           0   \n",
       "9       ...                0           0           0           0           0   \n",
       "10      ...                0           0           0           0           0   \n",
       "11      ...                0           0           0           0           0   \n",
       "12      ...                0           0           1           0           0   \n",
       "13      ...                0           0           0           0           1   \n",
       "14      ...                0           0           0           0           0   \n",
       "15      ...                0           0           1           0           0   \n",
       "16      ...                0           0           0           1           0   \n",
       "17      ...                0           0           0           0           0   \n",
       "18      ...                0           0           0           1           0   \n",
       "19      ...                0           0           0           1           0   \n",
       "20      ...                1           0           0           0           0   \n",
       "21      ...                0           0           0           0           0   \n",
       "22      ...                0           0           0           1           0   \n",
       "23      ...                0           0           0           0           0   \n",
       "24      ...                0           0           0           0           0   \n",
       "25      ...                0           0           0           0           0   \n",
       "26      ...                0           0           0           0           1   \n",
       "27      ...                0           0           0           0           1   \n",
       "28      ...                0           1           0           0           0   \n",
       "29      ...                0           0           0           0           0   \n",
       "..      ...              ...         ...         ...         ...         ...   \n",
       "469     ...                1           0           0           0           0   \n",
       "470     ...                1           0           0           0           0   \n",
       "471     ...                0           0           1           0           0   \n",
       "472     ...                0           0           0           1           0   \n",
       "474     ...                0           0           0           0           1   \n",
       "475     ...                1           0           0           0           0   \n",
       "476     ...                0           0           0           0           1   \n",
       "477     ...                0           1           0           0           0   \n",
       "478     ...                0           0           1           0           0   \n",
       "479     ...                1           0           0           0           0   \n",
       "480     ...                0           0           0           0           0   \n",
       "481     ...                0           0           0           0           1   \n",
       "482     ...                0           0           0           1           0   \n",
       "483     ...                0           0           0           0           0   \n",
       "484     ...                0           0           0           0           0   \n",
       "485     ...                0           0           0           0           0   \n",
       "486     ...                1           0           0           0           0   \n",
       "487     ...                0           0           0           0           1   \n",
       "488     ...                0           0           0           0           0   \n",
       "489     ...                0           0           0           0           1   \n",
       "490     ...                0           0           0           0           1   \n",
       "491     ...                0           0           1           0           0   \n",
       "492     ...                0           0           0           0           0   \n",
       "493     ...                0           0           0           1           0   \n",
       "494     ...                0           0           0           1           0   \n",
       "495     ...                0           0           0           1           0   \n",
       "496     ...                0           0           0           1           0   \n",
       "497     ...                0           0           0           0           0   \n",
       "498     ...                0           0           0           0           0   \n",
       "499     ...                0           0           1           0           0   \n",
       "\n",
       "     _Mo Sold_8  _Mo Sold_9  _Mo Sold_10  _Mo Sold_11  _Mo Sold_12  \n",
       "0             0           0            0            0            0  \n",
       "1             0           0            1            0            0  \n",
       "2             0           0            1            0            0  \n",
       "3             0           0            0            0            0  \n",
       "4             0           0            0            0            0  \n",
       "5             0           0            0            0            0  \n",
       "6             0           1            0            0            0  \n",
       "7             0           0            0            0            0  \n",
       "8             0           0            0            1            0  \n",
       "9             0           0            0            1            0  \n",
       "10            0           0            0            0            0  \n",
       "11            0           1            0            0            0  \n",
       "12            0           0            0            0            0  \n",
       "13            0           0            0            0            0  \n",
       "14            0           0            0            0            0  \n",
       "15            0           0            0            0            0  \n",
       "16            0           0            0            0            0  \n",
       "17            0           1            0            0            0  \n",
       "18            0           0            0            0            0  \n",
       "19            0           0            0            0            0  \n",
       "20            0           0            0            0            0  \n",
       "21            0           0            0            0            1  \n",
       "22            0           0            0            0            0  \n",
       "23            0           0            1            0            0  \n",
       "24            1           0            0            0            0  \n",
       "25            0           0            0            1            0  \n",
       "26            0           0            0            0            0  \n",
       "27            0           0            0            0            0  \n",
       "28            0           0            0            0            0  \n",
       "29            1           0            0            0            0  \n",
       "..          ...         ...          ...          ...          ...  \n",
       "469           0           0            0            0            0  \n",
       "470           0           0            0            0            0  \n",
       "471           0           0            0            0            0  \n",
       "472           0           0            0            0            0  \n",
       "474           0           0            0            0            0  \n",
       "475           0           0            0            0            0  \n",
       "476           0           0            0            0            0  \n",
       "477           0           0            0            0            0  \n",
       "478           0           0            0            0            0  \n",
       "479           0           0            0            0            0  \n",
       "480           1           0            0            0            0  \n",
       "481           0           0            0            0            0  \n",
       "482           0           0            0            0            0  \n",
       "483           0           0            0            0            0  \n",
       "484           0           0            0            1            0  \n",
       "485           0           0            0            1            0  \n",
       "486           0           0            0            0            0  \n",
       "487           0           0            0            0            0  \n",
       "488           0           1            0            0            0  \n",
       "489           0           0            0            0            0  \n",
       "490           0           0            0            0            0  \n",
       "491           0           0            0            0            0  \n",
       "492           0           0            0            0            1  \n",
       "493           0           0            0            0            0  \n",
       "494           0           0            0            0            0  \n",
       "495           0           0            0            0            0  \n",
       "496           0           0            0            0            0  \n",
       "497           0           0            0            1            0  \n",
       "498           0           0            0            0            0  \n",
       "499           0           0            0            0            0  \n",
       "\n",
       "[493 rows x 327 columns]"
      ]
     },
     "execution_count": 258,
     "metadata": {},
     "output_type": "execute_result"
    }
   ],
   "source": [
    "test_pred.dropna()"
   ]
  },
  {
   "cell_type": "code",
   "execution_count": null,
   "metadata": {},
   "outputs": [],
   "source": []
  }
 ],
 "metadata": {
  "kernelspec": {
   "display_name": "Python 3",
   "language": "python",
   "name": "python3"
  },
  "language_info": {
   "codemirror_mode": {
    "name": "ipython",
    "version": 3
   },
   "file_extension": ".py",
   "mimetype": "text/x-python",
   "name": "python",
   "nbconvert_exporter": "python",
   "pygments_lexer": "ipython3",
   "version": "3.6.4"
  }
 },
 "nbformat": 4,
 "nbformat_minor": 4
}
